{
 "cells": [
  {
   "cell_type": "markdown",
   "metadata": {
    "pycharm": {
     "is_executing": true
    }
   },
   "source": [
    "# [WIP] Python 101\n",
    "\n",
    "Python is a high-level, general purpose and open source programming language (build anything). It is a dynamically typed and garbage-collected language. Python supports multiple programming paradigms.\n",
    "Python was first released in 1991. With a strong community a lot of packages for data emerged. Python is a popular choice for data science and data engineering tasks.\n",
    "\n",
    "This notebook provides a short and fast overview of the Python language with small practical exercises. Please also refer to the official documentation: https://www.python.org/"
   ]
  },
  {
   "cell_type": "markdown",
   "source": [
    "## IPython Shell & Python Scripts\n",
    "\n",
    "WIP\n",
    "\n",
    "Python files end with .py"
   ],
   "metadata": {
    "collapsed": false
   }
  },
  {
   "cell_type": "markdown",
   "source": [
    "## Python for calculations\n",
    "\n",
    "WIP\n",
    "Arithmetic operators"
   ],
   "metadata": {
    "collapsed": false
   }
  },
  {
   "cell_type": "code",
   "execution_count": 5,
   "metadata": {},
   "outputs": [
    {
     "name": "stdout",
     "output_type": "stream",
     "text": [
      "7\n",
      "-1\n",
      "12\n",
      "0.75\n",
      "1\n",
      "81\n",
      "4\n"
     ]
    }
   ],
   "source": [
    "# Addition, subtraction\n",
    "print(3 + 4)\n",
    "print(3 - 4)\n",
    "\n",
    "# Multiplication, division\n",
    "print(3 * 4)\n",
    "print(3 / 4)\n",
    "\n",
    "# Modulo\n",
    "print(9 % 2)\n",
    "\n",
    "# Exponentiation, floor division\n",
    "print(9 ** 2)\n",
    "print(9 // 2)"
   ]
  },
  {
   "cell_type": "markdown",
   "source": [
    "## Variables\n",
    "\n",
    "WIP"
   ],
   "metadata": {
    "collapsed": false
   }
  },
  {
   "cell_type": "code",
   "execution_count": null,
   "outputs": [],
   "source": [],
   "metadata": {
    "collapsed": false
   }
  }
 ],
 "metadata": {
  "kernelspec": {
   "display_name": "Python 3 (ipykernel)",
   "language": "python",
   "name": "python3"
  },
  "language_info": {
   "codemirror_mode": {
    "name": "ipython",
    "version": 3
   },
   "file_extension": ".py",
   "mimetype": "text/x-python",
   "name": "python",
   "nbconvert_exporter": "python",
   "pygments_lexer": "ipython3",
   "version": "3.9.16"
  }
 },
 "nbformat": 4,
 "nbformat_minor": 1
}
