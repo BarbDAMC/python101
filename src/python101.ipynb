{
 "cells": [
  {
   "cell_type": "markdown",
   "metadata": {},
   "source": [
    "# [WIP] Python 101\n",
    "Python is a high-level, general purpose and open source programming language (build anything). It is a dynamically typed and garbage-collected language. Python supports multiple programming paradigms.\n",
    "Python was first released in 1991. With a strong community a lot of packages for data emerged. Python is a popular choice for data science and data engineering tasks.\n",
    "\n",
    "This notebook provides a short and fast overview of the Python language with small practical exercises. The focus is on syntax, to get you minimally familiar with Python to work through the DE Accelerated content without any problems. For more details around Python please refer to the [official documentation](https://www.python.org/)."
   ]
  },
  {
   "cell_type": "markdown",
   "metadata": {},
   "source": [
    "## Python for calculations\n",
    "Short overview of common arithmetic operators."
   ]
  },
  {
   "cell_type": "code",
   "execution_count": null,
   "metadata": {},
   "outputs": [],
   "source": [
    "# Addition\n",
    "6 + 2"
   ]
  },
  {
   "cell_type": "code",
   "execution_count": null,
   "outputs": [],
   "source": [
    "# Subtraction\n",
    "3 - 4"
   ],
   "metadata": {
    "collapsed": false
   }
  },
  {
   "cell_type": "code",
   "execution_count": null,
   "metadata": {},
   "outputs": [],
   "source": [
    "# Multiplication\n",
    "3 * 4"
   ]
  },
  {
   "cell_type": "code",
   "execution_count": null,
   "outputs": [],
   "source": [
    "# Division\n",
    "3 / 4"
   ],
   "metadata": {
    "collapsed": false
   }
  },
  {
   "cell_type": "code",
   "execution_count": null,
   "metadata": {},
   "outputs": [],
   "source": [
    "# Modulo\n",
    "9 % 2"
   ]
  },
  {
   "cell_type": "code",
   "execution_count": null,
   "metadata": {},
   "outputs": [],
   "source": [
    "# Exponentiation\n",
    "9 ** 2"
   ]
  },
  {
   "cell_type": "markdown",
   "source": [
    "### Exercises\n",
    "Alter the part in following function that was not implemented to calculate"
   ],
   "metadata": {
    "collapsed": false
   }
  },
  {
   "cell_type": "code",
   "execution_count": null,
   "outputs": [],
   "source": [
    "def calculate_3_plus_4():\n",
    "    return NotImplemented"
   ],
   "metadata": {
    "collapsed": false
   }
  },
  {
   "cell_type": "code",
   "execution_count": null,
   "outputs": [],
   "source": [
    "def test_calculate_3_plus_4():\n",
    "    result = calculate_3_plus_4()\n",
    "    if result is NotImplemented:\n",
    "        raise NotImplementedError(\"Implementation missing\")\n",
    "    assert result == 7\n",
    "    print(\"Test passed\")\n",
    "\n",
    "# test_calculate_3_plus_4()"
   ],
   "metadata": {
    "collapsed": false
   }
  },
  {
   "cell_type": "markdown",
   "metadata": {},
   "source": [
    "## Variables\n",
    "Variable names in Python (1) start with letter or underscore, (2) cannot start with number, (3) only contain alphanumeric characters and underscores, and (4) are case-sensitive."
   ]
  },
  {
   "cell_type": "code",
   "execution_count": null,
   "metadata": {},
   "outputs": [],
   "source": [
    "# Assign a value to a variable\n",
    "count = 0\n",
    "count"
   ]
  },
  {
   "cell_type": "code",
   "execution_count": null,
   "metadata": {},
   "outputs": [],
   "source": [
    "# Use of assignment operators\n",
    "count += 1 # same as count = count + 1\n",
    "count"
   ]
  },
  {
   "cell_type": "code",
   "execution_count": null,
   "metadata": {},
   "outputs": [],
   "source": [
    "# Multiple assignments in one line, calculating with variables\n",
    "triangle_base, triangle_height = 5, 6\n",
    "triangle_area = 0.5 * triangle_base * triangle_height\n",
    "triangle_area"
   ]
  },
  {
   "cell_type": "markdown",
   "source": [
    "### Exercises\n",
    "Description"
   ],
   "metadata": {
    "collapsed": false
   }
  },
  {
   "cell_type": "markdown",
   "metadata": {},
   "source": [
    "## Types and type conversion\n",
    "Python has type inference (automatic detection of the data type of the expression). Common data types include Integer, Float, String and Boolean."
   ]
  },
  {
   "cell_type": "code",
   "execution_count": null,
   "metadata": {},
   "outputs": [],
   "source": [
    "# Integer\n",
    "participants = 90\n",
    "type(participants)"
   ]
  },
  {
   "cell_type": "code",
   "execution_count": null,
   "outputs": [],
   "source": [
    "# Float\n",
    "distance = 3.5\n",
    "type(distance)"
   ],
   "metadata": {
    "collapsed": false
   }
  },
  {
   "cell_type": "code",
   "execution_count": null,
   "outputs": [],
   "source": [
    "# String\n",
    "text = \"text\"\n",
    "another_text = 'another text'\n",
    "type(text)"
   ],
   "metadata": {
    "collapsed": false
   }
  },
  {
   "cell_type": "code",
   "execution_count": null,
   "outputs": [],
   "source": [
    "# Boolean\n",
    "condition = True\n",
    "type(condition)"
   ],
   "metadata": {
    "collapsed": false
   }
  },
  {
   "cell_type": "code",
   "execution_count": null,
   "outputs": [],
   "source": [
    "# Convert variable to a preferred data type with e.g. int(), float(), str(), bool()\n",
    "distance_as_string = str(condition)\n",
    "distance_as_string"
   ],
   "metadata": {
    "collapsed": false
   }
  },
  {
   "cell_type": "markdown",
   "source": [
    "### Exercises\n",
    "Description"
   ],
   "metadata": {
    "collapsed": false
   }
  },
  {
   "cell_type": "markdown",
   "source": [
    "## Lists\n",
    "[Lists](https://docs.python.org/3/library/stdtypes.html#lists) are mutable sequences of values that can be of a single type (typical) or different types. A list itself is a type. The next sections cover the following points:\n",
    "- Create a list\n",
    "- Access a list\n",
    "- Manipulate a list\n",
    "- Copy a list\n",
    "- Join lists\n",
    "- Sort and reverse a list"
   ],
   "metadata": {
    "collapsed": false
   }
  },
  {
   "cell_type": "markdown",
   "source": [
    "### Create a list\n",
    "A list can hold values from the (1) same type or (2) any types (including e.g. list itself)."
   ],
   "metadata": {
    "collapsed": false
   }
  },
  {
   "cell_type": "code",
   "execution_count": null,
   "outputs": [],
   "source": [
    "# Create a list with values of the same type\n",
    "items = ['avocado', 'mushrooms', 'pasta', 'tomato', 'spinach'] # or use type constructor e.g. list(('avocado','pasta')) returns ['avocado', 'pasta']\n",
    "type(items)"
   ],
   "metadata": {
    "collapsed": false
   }
  },
  {
   "cell_type": "code",
   "execution_count": null,
   "outputs": [],
   "source": [
    "# Create a list with lists\n",
    "items_with_price = [['avocado', 2],\n",
    "                    ['mushrooms', 2.5],\n",
    "                    ['pasta', 1.56]]\n",
    "\n",
    "print(type(items_with_price))\n",
    "print(items_with_price)"
   ],
   "metadata": {
    "collapsed": false
   }
  },
  {
   "cell_type": "code",
   "execution_count": null,
   "outputs": [],
   "source": [
    "# Create a list with different types\n",
    "some_value = 44\n",
    "another_list = [3, 'hello', ['i', 5555, True], False, some_value, 4.555]\n",
    "\n",
    "print(type(another_list))\n",
    "print(another_list)"
   ],
   "metadata": {
    "collapsed": false
   }
  },
  {
   "cell_type": "markdown",
   "source": [
    "### Access a list\n",
    "Use indexing and slicing to extract a subset of values from a list."
   ],
   "metadata": {
    "collapsed": false
   }
  },
  {
   "cell_type": "code",
   "execution_count": null,
   "outputs": [],
   "source": [
    "# Indexing second element\n",
    "items[1]"
   ],
   "metadata": {
    "collapsed": false
   }
  },
  {
   "cell_type": "code",
   "execution_count": null,
   "outputs": [],
   "source": [
    "# Indexing last element\n",
    "items[-1]"
   ],
   "metadata": {
    "collapsed": false
   }
  },
  {
   "cell_type": "code",
   "execution_count": null,
   "outputs": [],
   "source": [
    "# List slicing with defining start and end index\n",
    "# Start index included, end index excluded\n",
    "items[3:5]"
   ],
   "metadata": {
    "collapsed": false
   }
  },
  {
   "cell_type": "code",
   "execution_count": null,
   "outputs": [],
   "source": [
    "# List slicing with defining either start or end index\n",
    "items[:3]"
   ],
   "metadata": {
    "collapsed": false
   }
  },
  {
   "cell_type": "markdown",
   "source": [
    "### Manipulate a list\n",
    "There are many more ways to manipulate a list. Here are some common ones."
   ],
   "metadata": {
    "collapsed": false
   }
  },
  {
   "cell_type": "code",
   "execution_count": null,
   "outputs": [],
   "source": [
    "# Look at current list elements\n",
    "items"
   ],
   "metadata": {
    "collapsed": false
   }
  },
  {
   "cell_type": "code",
   "execution_count": null,
   "outputs": [],
   "source": [
    "# Changing an element\n",
    "items[3] = 'apple'\n",
    "items"
   ],
   "metadata": {
    "collapsed": false
   }
  },
  {
   "cell_type": "code",
   "execution_count": null,
   "outputs": [],
   "source": [
    "# Changing elements\n",
    "items[:2] = ['strawberry', 'raspberry']\n",
    "items"
   ],
   "metadata": {
    "collapsed": false
   }
  },
  {
   "cell_type": "code",
   "execution_count": null,
   "outputs": [],
   "source": [
    "# Adding elements\n",
    "items += ['cherry', 'kale']\n",
    "print(items)\n",
    "\n",
    "items.insert(2, 'watermelon')\n",
    "print(items)\n",
    "\n",
    "items.append('pizza')\n",
    "print(items)"
   ],
   "metadata": {
    "collapsed": false
   }
  },
  {
   "cell_type": "code",
   "execution_count": null,
   "outputs": [],
   "source": [
    "# Deleting elements\n",
    "del(items[0]) # or use remove('strawberry), pop(0)\n",
    "print(items)\n",
    "\n",
    "items.remove('pizza')\n",
    "print(items)"
   ],
   "metadata": {
    "collapsed": false
   }
  },
  {
   "cell_type": "code",
   "execution_count": null,
   "outputs": [],
   "source": [
    "# Clear all elements from a list\n",
    "items.clear()\n",
    "items"
   ],
   "metadata": {
    "collapsed": false
   }
  },
  {
   "cell_type": "markdown",
   "source": [
    "### Copy a list"
   ],
   "metadata": {
    "collapsed": false
   }
  },
  {
   "cell_type": "code",
   "execution_count": null,
   "outputs": [],
   "source": [
    "# Use list() function if you don't want to assign a reference but want to create a new list with the same values\n",
    "original_items = ['apple', 'orange']\n",
    "new_items = list(original_items) # or use items[:] or items.copy()\n",
    "new_items"
   ],
   "metadata": {
    "collapsed": false
   }
  },
  {
   "cell_type": "markdown",
   "source": [
    "### Join lists"
   ],
   "metadata": {
    "collapsed": false
   }
  },
  {
   "cell_type": "code",
   "execution_count": null,
   "outputs": [],
   "source": [
    "# Remove item from original items\n",
    "del(original_items[0])\n",
    "\n",
    "# Join two lists\n",
    "joined_list = new_items + original_items\n",
    "joined_list"
   ],
   "metadata": {
    "collapsed": false
   }
  },
  {
   "cell_type": "markdown",
   "source": [
    "### Sort and reverse a list"
   ],
   "metadata": {
    "collapsed": false
   }
  },
  {
   "cell_type": "code",
   "execution_count": null,
   "outputs": [],
   "source": [
    "# Sort lists\n",
    "number_list = [10,100,1,0,1000]\n",
    "number_list.sort()\n",
    "print(number_list)\n",
    "\n",
    "# Reverse sort\n",
    "number_list.sort(reverse = True)\n",
    "print(number_list)"
   ],
   "metadata": {
    "collapsed": false
   }
  },
  {
   "cell_type": "code",
   "execution_count": null,
   "outputs": [],
   "source": [
    "# Reverse order of list\n",
    "number_list.reverse()\n",
    "number_list"
   ],
   "metadata": {
    "collapsed": false
   }
  },
  {
   "cell_type": "markdown",
   "source": [
    "### Exercises\n",
    "Description"
   ],
   "metadata": {
    "collapsed": false
   }
  },
  {
   "cell_type": "markdown",
   "source": [
    "## Other common data types\n",
    "Tuples, dictionaries and sets.\n",
    "- [Tuples](https://docs.python.org/3/library/stdtypes.html#tuples) are sequences of values that are immutable and ordered. Duplicates are allowed. Values are indexed and can be from any type.\n",
    "- [Dictionaries](https://docs.python.org/3/library/stdtypes.html#dict) are mutable collections used to store key to value pairs. Hashable values (keys) are mapped to any kind of object (values). Keys have one data type while the values can be from any type. Duplicates are not allowed.\n",
    "- [Sets](https://docs.python.org/3/library/stdtypes.html#set) are unordered and un-indexed collections. Duplicates are not allowed. The items within the set are immutable but items can be removed or added. Items can be from any type."
   ],
   "metadata": {
    "collapsed": false
   }
  },
  {
   "cell_type": "code",
   "execution_count": null,
   "outputs": [],
   "source": [
    "# Tuple\n",
    "tuple_example = (12, 'word', True)\n",
    "type(tuple_example)"
   ],
   "metadata": {
    "collapsed": false
   }
  },
  {
   "cell_type": "code",
   "execution_count": null,
   "outputs": [],
   "source": [
    "# Dictionary\n",
    "dict_example = {'firstKey': 1, 'secondKey': 2, 'thirdKey': 3} # or dict(firstKey=1, secondKey=2, thirdKey=3)\n",
    "type(dict_example)"
   ],
   "metadata": {
    "collapsed": false
   }
  },
  {
   "cell_type": "code",
   "execution_count": null,
   "outputs": [],
   "source": [
    "# Set\n",
    "set_example = {'word1', True, 34}\n",
    "type(set_example)"
   ],
   "metadata": {
    "collapsed": false
   }
  },
  {
   "cell_type": "markdown",
   "source": [
    "### Exercises\n",
    "Description"
   ],
   "metadata": {
    "collapsed": false
   }
  },
  {
   "cell_type": "markdown",
   "source": [
    "## Indentation\n",
    "Python uses [indentation](https://docs.python.org/3.11/reference/lexical_analysis.html#indentation) in the form of white spaces to indicate blocks of code. Indentation is therefore a must. Mixing tabs and spaces is disallowed (often spaces preferred).\n",
    "[Explicit line joining](https://docs.python.org/3.11/reference/lexical_analysis.html#explicit-line-joining) (using the backslash) and [Implicit line joining](https://docs.python.org/3.11/reference/lexical_analysis.html#implicit-line-joining) (for content within parentheses, square brackets or curly braces) are additional ways to structure code (e.g. for better readability)."
   ],
   "metadata": {
    "collapsed": false
   }
  },
  {
   "cell_type": "code",
   "execution_count": null,
   "outputs": [],
   "source": [
    "# Explicit line joining\n",
    "full_list = ['a', 'b'] \\\n",
    "    + ['c'] \\\n",
    "    + ['d', 'e']\n",
    "\n",
    "full_list"
   ],
   "metadata": {
    "collapsed": false
   }
  },
  {
   "cell_type": "code",
   "execution_count": null,
   "outputs": [],
   "source": [
    "# Implicit line joining\n",
    "another_list = ['Monday', 'Tuesday', 'Wednesday',\n",
    "                'Thursday', 'Friday', 'Saturday',\n",
    "                'Sunday']\n",
    "\n",
    "another_list"
   ],
   "metadata": {
    "collapsed": false
   }
  },
  {
   "cell_type": "markdown",
   "source": [
    "## Functions and methods\n",
    "[Functions](https://docs.python.org/3/library/stdtypes.html#functions) are reusable code that has to be invoked to run and can be defined in Python with the <b>def</b> keyword.\n",
    "[Methods](https://docs.python.org/3/library/stdtypes.html#methods) are functions, either built-in methods (e.g. string methods) or class instance methods."
   ],
   "metadata": {
    "collapsed": false
   }
  },
  {
   "cell_type": "code",
   "execution_count": null,
   "outputs": [],
   "source": [
    "# Defining and invoking a function\n",
    "def print_hello():\n",
    "    print('Hello')\n",
    "\n",
    "print_hello()"
   ],
   "metadata": {
    "collapsed": false
   }
  },
  {
   "cell_type": "code",
   "execution_count": null,
   "outputs": [],
   "source": [
    "# Define a function with arguments/parameters and return statement\n",
    "def calculate_triangle_area(base, height):\n",
    "    return 0.5 * base * height\n",
    "\n",
    "calculate_triangle_area(base = 5, height = 6)"
   ],
   "metadata": {
    "collapsed": false
   }
  },
  {
   "cell_type": "code",
   "execution_count": null,
   "outputs": [],
   "source": [
    "# Use the help method to get more context\n",
    "help(print)"
   ],
   "metadata": {
    "collapsed": false
   }
  },
  {
   "cell_type": "markdown",
   "source": [
    "### Lambda functions\n",
    "Lambdas are small anonymous functions. They are efficient for simple expressions (single line statements) and if a function should be used only once."
   ],
   "metadata": {
    "collapsed": false
   }
  },
  {
   "cell_type": "code",
   "execution_count": null,
   "outputs": [],
   "source": [
    "# A function defined by the def keyword\n",
    "def add_two_numbers(x, y):\n",
    "    return x + y\n",
    "\n",
    "# Equivalent lambda function\n",
    "lambda_add_two_numbers = lambda x, y: x + y\n",
    "lambda_add_two_numbers(4,5)"
   ],
   "metadata": {
    "collapsed": false
   }
  },
  {
   "cell_type": "code",
   "execution_count": null,
   "outputs": [],
   "source": [
    "# Passing in a function as arguments\n",
    "example_function = lambda x, y, func: x * func(x,y)\n",
    "example_function(2, 3, lambda x, y: x + y)"
   ],
   "metadata": {
    "collapsed": false
   }
  },
  {
   "cell_type": "markdown",
   "source": [
    "### Map, filter and reduce\n",
    "Map, filter and reduce are higher order functions. Map and filter are built-in functions. Reduce has to be imported from the functools.\n",
    "- The [map](https://docs.python.org/3/library/functions.html?highlight=map#map) function takes a function and iterables as arguments. The function is applied to every element in an iterable (e.g. on each element of a list).\n",
    "- The [filter](https://docs.python.org/3/library/functions.html?highlight=filter#filter) function filters elements based on a function. The output contains the elements for which the applied passed in function returned true.\n",
    "- The [reduce](https://docs.python.org/3/library/functools.html?highlight=reduce#functools.reduce) function applies a provided function on the provided iterables. A single value is returned."
   ],
   "metadata": {
    "collapsed": false
   }
  },
  {
   "cell_type": "code",
   "execution_count": null,
   "outputs": [],
   "source": [
    "# Map with map(function, iterables)\n",
    "example_list = [1,2,3,4]\n",
    "\n",
    "list(map(lambda x: x-1, example_list))"
   ],
   "metadata": {
    "collapsed": false
   }
  },
  {
   "cell_type": "code",
   "execution_count": null,
   "outputs": [],
   "source": [
    "# Filter with filter(function, iterables)\n",
    "example_list = [1,2,3,4]\n",
    "\n",
    "list(filter(lambda x: x>=2, example_list))"
   ],
   "metadata": {
    "collapsed": false
   }
  },
  {
   "cell_type": "code",
   "execution_count": null,
   "outputs": [],
   "source": [
    "# Reduce with reduce(function, iterables)\n",
    "from functools import reduce\n",
    "\n",
    "example_list = [1,2,3,4]\n",
    "\n",
    "reduce(lambda x,y: x+y, example_list)"
   ],
   "metadata": {
    "collapsed": false
   }
  },
  {
   "cell_type": "markdown",
   "source": [
    "### Exercises\n",
    "Description"
   ],
   "metadata": {
    "collapsed": false
   }
  },
  {
   "cell_type": "markdown",
   "source": [
    "## Modules and packages\n",
    "[Modules](https://docs.python.org/3/tutorial/modules.html) can be a .py files with various functions and variables.\n",
    "[Packages](https://docs.python.org/3/tutorial/modules.html#packages) are a collection of modules with an init file. For installation of packages [pip](https://pypi.org/project/pip/) can be used."
   ],
   "metadata": {
    "collapsed": false
   }
  },
  {
   "cell_type": "code",
   "execution_count": null,
   "outputs": [],
   "source": [
    "# Import a module\n",
    "import sys\n",
    "\n",
    "# Use dir function to find out what is defined within a module\n",
    "dir(sys)"
   ],
   "metadata": {
    "collapsed": false
   }
  },
  {
   "cell_type": "code",
   "execution_count": null,
   "outputs": [],
   "source": [
    "# Install a package in the notebook\n",
    "!{sys.executable} -m pip install numpy"
   ],
   "metadata": {
    "collapsed": false
   }
  },
  {
   "cell_type": "code",
   "execution_count": null,
   "outputs": [],
   "source": [
    "# Import with the import keyword\n",
    "import numpy\n",
    "\n",
    "# Make use of the module\n",
    "numpy.array([11,22])"
   ],
   "metadata": {
    "collapsed": false
   }
  },
  {
   "cell_type": "code",
   "execution_count": null,
   "outputs": [],
   "source": [
    "# Import with different name\n",
    "import numpy as np\n",
    "\n",
    "np.array([11,22])\n",
    "\n",
    "# Or import only a part\n",
    "# from numpy import array\n",
    "# array([11,22])\n",
    "\n",
    "# Submodules can be referenced with a dot (.)"
   ],
   "metadata": {
    "collapsed": false
   }
  },
  {
   "cell_type": "markdown",
   "source": [
    "### Exercises\n",
    "Description"
   ],
   "metadata": {
    "collapsed": false
   }
  },
  {
   "cell_type": "markdown",
   "source": [
    "## Conditions\n"
   ],
   "metadata": {
    "collapsed": false
   }
  },
  {
   "cell_type": "markdown",
   "source": [
    "### Exercises\n",
    "Description"
   ],
   "metadata": {
    "collapsed": false
   }
  },
  {
   "cell_type": "markdown",
   "source": [
    "## Loops\n",
    "(introducing range, list comprehension)"
   ],
   "metadata": {
    "collapsed": false
   }
  },
  {
   "cell_type": "markdown",
   "source": [
    "### Exercises\n",
    "Description"
   ],
   "metadata": {
    "collapsed": false
   }
  },
  {
   "cell_type": "markdown",
   "source": [
    "## Pattern matching\n"
   ],
   "metadata": {
    "collapsed": false
   }
  },
  {
   "cell_type": "markdown",
   "source": [
    "### Exercises\n",
    "Description"
   ],
   "metadata": {
    "collapsed": false
   }
  },
  {
   "cell_type": "markdown",
   "source": [
    "## File handling\n"
   ],
   "metadata": {
    "collapsed": false
   }
  },
  {
   "cell_type": "markdown",
   "source": [
    "### Exercises\n",
    "Description"
   ],
   "metadata": {
    "collapsed": false
   }
  },
  {
   "cell_type": "markdown",
   "source": [
    "## [Optional] Classes\n"
   ],
   "metadata": {
    "collapsed": false
   }
  },
  {
   "cell_type": "markdown",
   "source": [
    "### Exercises\n",
    "Description"
   ],
   "metadata": {
    "collapsed": false
   }
  },
  {
   "cell_type": "markdown",
   "source": [
    "## [Optional] Overloading\n"
   ],
   "metadata": {
    "collapsed": false
   }
  },
  {
   "cell_type": "markdown",
   "source": [
    "### Exercises\n",
    "Description"
   ],
   "metadata": {
    "collapsed": false
   }
  },
  {
   "cell_type": "markdown",
   "source": [
    "## [Optional] Threading\n"
   ],
   "metadata": {
    "collapsed": false
   }
  },
  {
   "cell_type": "markdown",
   "source": [
    "### Exercises\n",
    "Description"
   ],
   "metadata": {
    "collapsed": false
   }
  },
  {
   "cell_type": "markdown",
   "source": [
    "## [Optional] Optional typesystem\n"
   ],
   "metadata": {
    "collapsed": false
   }
  },
  {
   "cell_type": "markdown",
   "source": [
    "### Exercises\n",
    "Description"
   ],
   "metadata": {
    "collapsed": false
   }
  },
  {
   "cell_type": "markdown",
   "source": [
    "## [Optional] Numpy\n"
   ],
   "metadata": {
    "collapsed": false
   }
  },
  {
   "cell_type": "markdown",
   "source": [
    "### Exercises\n",
    "Description"
   ],
   "metadata": {
    "collapsed": false
   }
  }
 ],
 "metadata": {
  "kernelspec": {
   "display_name": "Python 3 (ipykernel)",
   "language": "python",
   "name": "python3"
  },
  "language_info": {
   "codemirror_mode": {
    "name": "ipython",
    "version": 3
   },
   "file_extension": ".py",
   "mimetype": "text/x-python",
   "name": "python",
   "nbconvert_exporter": "python",
   "pygments_lexer": "ipython3",
   "version": "3.9.16"
  }
 },
 "nbformat": 4,
 "nbformat_minor": 1
}
