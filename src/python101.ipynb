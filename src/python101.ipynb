{
 "cells": [
  {
   "cell_type": "markdown",
   "metadata": {},
   "source": [
    "# Python 101\n",
    "Python is a high-level, interpreted, general purpose and open source programming language (build anything). It is a dynamically typed and garbage-collected language. Python supports multiple programming paradigms.\n",
    "Python was first released in 1991. With a strong community a lot of packages for data emerged. Python is a popular choice for data science and data engineering tasks.\n",
    "\n",
    "This notebook provides a short and fast overview of the Python language with small practical exercises. The focus is on syntax, to get you minimally familiar with Python to work through the DE Accelerated content without any problems. You can skip ahead to the exercises for testing your knowledge directly. For more details around Python please refer to the [official documentation](https://www.python.org/)."
   ]
  },
  {
   "cell_type": "markdown",
   "metadata": {},
   "source": [
    "## Python for calculations\n",
    "Short overview of common arithmetic operators."
   ]
  },
  {
   "cell_type": "code",
   "execution_count": null,
   "metadata": {},
   "outputs": [],
   "source": [
    "# Addition\n",
    "6 + 2"
   ]
  },
  {
   "cell_type": "code",
   "execution_count": null,
   "metadata": {},
   "outputs": [],
   "source": [
    "# Subtraction\n",
    "3 - 4"
   ]
  },
  {
   "cell_type": "code",
   "execution_count": null,
   "metadata": {},
   "outputs": [],
   "source": [
    "# Multiplication\n",
    "3 * 4"
   ]
  },
  {
   "cell_type": "code",
   "execution_count": null,
   "metadata": {},
   "outputs": [],
   "source": [
    "# Division\n",
    "3 / 4"
   ]
  },
  {
   "cell_type": "code",
   "execution_count": null,
   "metadata": {},
   "outputs": [],
   "source": [
    "# Modulo\n",
    "9 % 2"
   ]
  },
  {
   "cell_type": "code",
   "execution_count": null,
   "metadata": {},
   "outputs": [],
   "source": [
    "# Exponentiation\n",
    "9 ** 2"
   ]
  },
  {
   "cell_type": "markdown",
   "metadata": {},
   "source": [
    "## Variables\n",
    "Variable names in Python (1) start with letter or underscore, (2) cannot start with number, (3) only contain alphanumeric characters and underscores, and (4) are case-sensitive."
   ]
  },
  {
   "cell_type": "code",
   "execution_count": null,
   "metadata": {},
   "outputs": [],
   "source": [
    "# Assign a value to a variable\n",
    "count = 0\n",
    "count"
   ]
  },
  {
   "cell_type": "code",
   "execution_count": null,
   "metadata": {},
   "outputs": [],
   "source": [
    "# Use of assignment operators\n",
    "count += 1 # same as count = count + 1\n",
    "count"
   ]
  },
  {
   "cell_type": "code",
   "execution_count": null,
   "metadata": {},
   "outputs": [],
   "source": [
    "# Multiple assignments in one line, calculating with variables\n",
    "triangle_base, triangle_height = 5, 6\n",
    "triangle_area = 0.5 * triangle_base * triangle_height\n",
    "triangle_area"
   ]
  },
  {
   "cell_type": "code",
   "execution_count": null,
   "metadata": {},
   "outputs": [],
   "source": [
    "# Introducing the f string\n",
    "first_name = 'Kim'\n",
    "print(f'Hello {first_name}, how are you?')"
   ]
  },
  {
   "cell_type": "markdown",
   "metadata": {},
   "source": [
    "### Exercises\n",
    "Alter the part in following function that was not implemented to calculate\n",
    "Define a variable and calculate"
   ]
  },
  {
   "cell_type": "code",
   "execution_count": null,
   "metadata": {},
   "outputs": [],
   "source": [
    "def calculate_3_plus_4():\n",
    "    return NotImplemented"
   ]
  },
  {
   "cell_type": "code",
   "execution_count": null,
   "metadata": {},
   "outputs": [],
   "source": [
    "def test_calculate_3_plus_4():\n",
    "    result = calculate_3_plus_4()\n",
    "    if result is NotImplemented:\n",
    "        raise NotImplementedError(\"Implementation missing\")\n",
    "    assert result == 7\n",
    "    print(\"Test passed\")\n",
    "\n",
    "# test_calculate_3_plus_4()"
   ]
  },
  {
   "cell_type": "markdown",
   "metadata": {},
   "source": [
    "## Types and type conversion\n",
    "Python has type inference (automatic detection of the data type of the expression). Common data types include Integer, Float, String and Boolean."
   ]
  },
  {
   "cell_type": "code",
   "execution_count": null,
   "metadata": {},
   "outputs": [],
   "source": [
    "# Integer\n",
    "participants = 90\n",
    "type(participants)"
   ]
  },
  {
   "cell_type": "code",
   "execution_count": null,
   "metadata": {},
   "outputs": [],
   "source": [
    "# Float\n",
    "distance = 3.5\n",
    "type(distance)"
   ]
  },
  {
   "cell_type": "code",
   "execution_count": null,
   "metadata": {},
   "outputs": [],
   "source": [
    "# String\n",
    "text = \"text\"\n",
    "another_text = 'another text'\n",
    "type(text)"
   ]
  },
  {
   "cell_type": "code",
   "execution_count": null,
   "metadata": {},
   "outputs": [],
   "source": [
    "# Boolean\n",
    "condition = True\n",
    "type(condition)"
   ]
  },
  {
   "cell_type": "code",
   "execution_count": null,
   "metadata": {},
   "outputs": [],
   "source": [
    "# Convert variable to a preferred data type with e.g. int(), float(), str(), bool()\n",
    "distance_as_string = str(condition)\n",
    "distance_as_string"
   ]
  },
  {
   "cell_type": "markdown",
   "metadata": {},
   "source": [
    "### Exercises\n",
    "Description"
   ]
  },
  {
   "cell_type": "markdown",
   "metadata": {},
   "source": [
    "## Lists\n",
    "[Lists](https://docs.python.org/3/library/stdtypes.html#lists) are mutable sequences of values that can be of a single type (typical) or different types. A list itself is a type. The next sections cover the following points:\n",
    "- Create a list\n",
    "- Access a list\n",
    "- Manipulate a list\n",
    "- Copy a list\n",
    "- Join lists\n",
    "- Sort and reverse a list"
   ]
  },
  {
   "cell_type": "markdown",
   "metadata": {},
   "source": [
    "### Create a list\n",
    "A list can hold values from the (1) same type or (2) any types (including e.g. list itself)."
   ]
  },
  {
   "cell_type": "code",
   "execution_count": null,
   "metadata": {},
   "outputs": [],
   "source": [
    "# Create a list with values of the same type\n",
    "items = ['avocado', 'mushrooms', 'pasta', 'tomato', 'spinach'] # or use type constructor e.g. list(('avocado','pasta')) returns ['avocado', 'pasta']\n",
    "type(items)"
   ]
  },
  {
   "cell_type": "code",
   "execution_count": null,
   "metadata": {},
   "outputs": [],
   "source": [
    "# Create a list with lists\n",
    "items_with_price = [['avocado', 2],\n",
    "                    ['mushrooms', 2.5],\n",
    "                    ['pasta', 1.56]]\n",
    "\n",
    "print(type(items_with_price))\n",
    "print(items_with_price)"
   ]
  },
  {
   "cell_type": "code",
   "execution_count": null,
   "metadata": {},
   "outputs": [],
   "source": [
    "# Create a list with different types\n",
    "some_value = 44\n",
    "another_list = [3, 'hello', ['i', 5555, True], False, some_value, 4.555]\n",
    "\n",
    "print(type(another_list))\n",
    "print(another_list)"
   ]
  },
  {
   "cell_type": "markdown",
   "metadata": {},
   "source": [
    "### Access a list\n",
    "Use indexing and slicing to extract a subset of values from a list."
   ]
  },
  {
   "cell_type": "code",
   "execution_count": null,
   "metadata": {},
   "outputs": [],
   "source": [
    "# Indexing second element\n",
    "items[1]"
   ]
  },
  {
   "cell_type": "code",
   "execution_count": null,
   "metadata": {},
   "outputs": [],
   "source": [
    "# Indexing last element\n",
    "items[-1]"
   ]
  },
  {
   "cell_type": "code",
   "execution_count": null,
   "metadata": {},
   "outputs": [],
   "source": [
    "# List slicing with defining start and end index\n",
    "# Start index included, end index excluded\n",
    "items[3:5]"
   ]
  },
  {
   "cell_type": "code",
   "execution_count": null,
   "metadata": {},
   "outputs": [],
   "source": [
    "# List slicing with defining either start or end index\n",
    "items[:3]"
   ]
  },
  {
   "cell_type": "markdown",
   "metadata": {},
   "source": [
    "### Manipulate a list\n",
    "There are many more ways to manipulate a list. Here are some common ones."
   ]
  },
  {
   "cell_type": "code",
   "execution_count": null,
   "metadata": {},
   "outputs": [],
   "source": [
    "# Look at current list elements\n",
    "items"
   ]
  },
  {
   "cell_type": "code",
   "execution_count": null,
   "metadata": {},
   "outputs": [],
   "source": [
    "# Changing an element\n",
    "items[3] = 'apple'\n",
    "items"
   ]
  },
  {
   "cell_type": "code",
   "execution_count": null,
   "metadata": {},
   "outputs": [],
   "source": [
    "# Changing elements\n",
    "items[:2] = ['strawberry', 'raspberry']\n",
    "items"
   ]
  },
  {
   "cell_type": "code",
   "execution_count": null,
   "metadata": {},
   "outputs": [],
   "source": [
    "# Adding elements\n",
    "items += ['cherry', 'kale']\n",
    "print(items)\n",
    "\n",
    "items.insert(2, 'watermelon')\n",
    "print(items)\n",
    "\n",
    "items.append('pizza')\n",
    "print(items)"
   ]
  },
  {
   "cell_type": "code",
   "execution_count": null,
   "metadata": {},
   "outputs": [],
   "source": [
    "# Deleting elements\n",
    "del(items[0]) # or use remove('strawberry), pop(0)\n",
    "print(items)\n",
    "\n",
    "items.remove('pizza')\n",
    "print(items)"
   ]
  },
  {
   "cell_type": "code",
   "execution_count": null,
   "metadata": {},
   "outputs": [],
   "source": [
    "# Clear all elements from a list\n",
    "items.clear()\n",
    "items"
   ]
  },
  {
   "cell_type": "markdown",
   "metadata": {},
   "source": [
    "### Copy a list"
   ]
  },
  {
   "cell_type": "code",
   "execution_count": null,
   "metadata": {},
   "outputs": [],
   "source": [
    "# Use list() function if you don't want to assign a reference but want to create a new list with the same values\n",
    "original_items = ['apple', 'orange']\n",
    "new_items = list(original_items) # or use items[:] or items.copy()\n",
    "new_items"
   ]
  },
  {
   "cell_type": "markdown",
   "metadata": {},
   "source": [
    "### Join lists"
   ]
  },
  {
   "cell_type": "code",
   "execution_count": null,
   "metadata": {},
   "outputs": [],
   "source": [
    "# Remove item from original items\n",
    "del(original_items[0])\n",
    "\n",
    "# Join two lists\n",
    "joined_list = new_items + original_items\n",
    "joined_list"
   ]
  },
  {
   "cell_type": "markdown",
   "metadata": {},
   "source": [
    "### Sort and reverse a list"
   ]
  },
  {
   "cell_type": "code",
   "execution_count": null,
   "metadata": {},
   "outputs": [],
   "source": [
    "# Sort lists\n",
    "number_list = [10,100,1,0,1000]\n",
    "number_list.sort()\n",
    "print(number_list)\n",
    "\n",
    "# Reverse sort\n",
    "number_list.sort(reverse = True)\n",
    "print(number_list)"
   ]
  },
  {
   "cell_type": "code",
   "execution_count": null,
   "metadata": {},
   "outputs": [],
   "source": [
    "# Reverse order of list\n",
    "number_list.reverse()\n",
    "number_list"
   ]
  },
  {
   "cell_type": "markdown",
   "metadata": {},
   "source": [
    "### Exercises\n",
    "Description"
   ]
  },
  {
   "cell_type": "markdown",
   "metadata": {},
   "source": [
    "## Tuples, dictionaries and sets\n",
    "Other common data types include the tuple, dictionary and set."
   ]
  },
  {
   "cell_type": "markdown",
   "metadata": {},
   "source": [
    "### Tuple\n",
    "[Tuples](https://docs.python.org/3/library/stdtypes.html#tuples) are sequences of values that are immutable and ordered. Duplicates are allowed. Values are indexed and can be from any type."
   ]
  },
  {
   "cell_type": "code",
   "execution_count": null,
   "metadata": {},
   "outputs": [],
   "source": [
    "tuple_example = (12, 'word', True)\n",
    "type(tuple_example)"
   ]
  },
  {
   "cell_type": "markdown",
   "metadata": {},
   "source": [
    "### Dictionary\n",
    "[Dictionaries](https://docs.python.org/3/library/stdtypes.html#dict) are mutable collections used to store key to value pairs. Hashable values (keys) are mapped to any kind of object (values). Keys have one data type while the values can be from any type. Duplicates are not allowed."
   ]
  },
  {
   "cell_type": "code",
   "execution_count": null,
   "metadata": {},
   "outputs": [],
   "source": [
    "dict_example = {'firstKey': 1, 'secondKey': 2, 'thirdKey': 3} # or dict(firstKey=1, secondKey=2, thirdKey=3)\n",
    "type(dict_example)"
   ]
  },
  {
   "cell_type": "markdown",
   "metadata": {},
   "source": [
    "### Set\n",
    "[Sets](https://docs.python.org/3/library/stdtypes.html#set) are unordered and un-indexed collections. Duplicates are not allowed. The items within the set are immutable but items can be removed or added. Items can be from any type."
   ]
  },
  {
   "cell_type": "code",
   "execution_count": null,
   "metadata": {},
   "outputs": [],
   "source": [
    "set_example = {'word1', True, 34}\n",
    "type(set_example)"
   ]
  },
  {
   "cell_type": "markdown",
   "metadata": {},
   "source": [
    "### Exercises\n",
    "Description"
   ]
  },
  {
   "cell_type": "markdown",
   "metadata": {},
   "source": [
    "## Indentation\n",
    "Python uses [indentation](https://docs.python.org/3.11/reference/lexical_analysis.html#indentation) in the form of white spaces to indicate blocks of code. Indentation is therefore a must. Mixing tabs and spaces is disallowed (often spaces preferred).\n",
    "[Explicit line joining](https://docs.python.org/3.11/reference/lexical_analysis.html#explicit-line-joining) (using the backslash) and [Implicit line joining](https://docs.python.org/3.11/reference/lexical_analysis.html#implicit-line-joining) (for content within parentheses, square brackets or curly braces) are additional ways to structure code (e.g. for better readability)."
   ]
  },
  {
   "cell_type": "code",
   "execution_count": null,
   "metadata": {},
   "outputs": [],
   "source": [
    "# Explicit line joining\n",
    "full_list = ['a', 'b'] \\\n",
    "    + ['c'] \\\n",
    "    + ['d', 'e']\n",
    "\n",
    "full_list"
   ]
  },
  {
   "cell_type": "code",
   "execution_count": null,
   "metadata": {},
   "outputs": [],
   "source": [
    "# Implicit line joining\n",
    "another_list = ['Monday', 'Tuesday', 'Wednesday',\n",
    "                'Thursday', 'Friday', 'Saturday',\n",
    "                'Sunday']\n",
    "\n",
    "another_list"
   ]
  },
  {
   "cell_type": "markdown",
   "metadata": {},
   "source": [
    "## Functions and methods\n",
    "[Functions](https://docs.python.org/3/library/stdtypes.html#functions) are reusable code that has to be invoked to run and can be defined in Python with the <b>def</b> keyword.\n",
    "[Methods](https://docs.python.org/3/library/stdtypes.html#methods) are functions, either built-in methods (e.g. string methods) or class instance methods."
   ]
  },
  {
   "cell_type": "code",
   "execution_count": null,
   "metadata": {},
   "outputs": [],
   "source": [
    "# Defining and invoking a function\n",
    "def print_hello():\n",
    "    print('Hello')\n",
    "\n",
    "print_hello()"
   ]
  },
  {
   "cell_type": "code",
   "execution_count": null,
   "metadata": {},
   "outputs": [],
   "source": [
    "# Define a function with arguments/parameters and return statement\n",
    "def calculate_triangle_area(base, height):\n",
    "    return 0.5 * base * height\n",
    "\n",
    "calculate_triangle_area(base = 5, height = 6)"
   ]
  },
  {
   "cell_type": "code",
   "execution_count": null,
   "metadata": {},
   "outputs": [],
   "source": [
    "# Use the help method to get more context\n",
    "help(print)"
   ]
  },
  {
   "cell_type": "markdown",
   "metadata": {},
   "source": [
    "### Lambda functions\n",
    "Lambdas are small anonymous functions. They are efficient for simple expressions (single line statements) and if a function should be used only once."
   ]
  },
  {
   "cell_type": "code",
   "execution_count": null,
   "metadata": {},
   "outputs": [],
   "source": [
    "# A function defined by the def keyword\n",
    "def add_two_numbers(val1, val2):\n",
    "    return val1 + val2\n",
    "\n",
    "# Equivalent lambda function\n",
    "lambda_add_two_numbers = lambda a, b: a + b\n",
    "lambda_add_two_numbers(4,5)"
   ]
  },
  {
   "cell_type": "code",
   "execution_count": null,
   "metadata": {},
   "outputs": [],
   "source": [
    "# Passing in a function as arguments\n",
    "example_function = lambda a, b, func: a * func(a,b)\n",
    "example_function(2, 3, lambda a, b: a + b)"
   ]
  },
  {
   "cell_type": "markdown",
   "metadata": {},
   "source": [
    "### Map, filter and reduce\n",
    "Map, filter and reduce are higher order functions. Map and filter are built-in functions. Reduce has to be imported from the functools.\n",
    "- The [map](https://docs.python.org/3/library/functions.html?highlight=map#map) function takes a function and iterables as arguments. The function is applied to every element in an iterable (e.g. on each element of a list).\n",
    "- The [filter](https://docs.python.org/3/library/functions.html?highlight=filter#filter) function filters elements based on a function. The output contains the elements for which the applied passed in function returned true.\n",
    "- The [reduce](https://docs.python.org/3/library/functools.html?highlight=reduce#functools.reduce) function applies a provided function on the provided iterables. A single value is returned."
   ]
  },
  {
   "cell_type": "code",
   "execution_count": null,
   "metadata": {},
   "outputs": [],
   "source": [
    "# Map with map(function, iterables)\n",
    "example_list = [1,2,3,4]\n",
    "\n",
    "list(map(lambda a: a-1, example_list))"
   ]
  },
  {
   "cell_type": "code",
   "execution_count": null,
   "metadata": {},
   "outputs": [],
   "source": [
    "# Filter with filter(function, iterables)\n",
    "example_list = [1,2,3,4]\n",
    "\n",
    "list(filter(lambda a: a>=2, example_list))"
   ]
  },
  {
   "cell_type": "code",
   "execution_count": null,
   "metadata": {},
   "outputs": [],
   "source": [
    "# Reduce with reduce(function, iterables)\n",
    "from functools import reduce\n",
    "\n",
    "example_list = [1,2,3,4]\n",
    "\n",
    "reduce(lambda a,b: a+b, example_list)"
   ]
  },
  {
   "cell_type": "markdown",
   "metadata": {},
   "source": [
    "### Exercises\n",
    "Description"
   ]
  },
  {
   "cell_type": "markdown",
   "metadata": {},
   "source": [
    "## Modules and packages\n",
    "[Modules](https://docs.python.org/3/tutorial/modules.html) can be a .py files with various functions and variables.\n",
    "[Packages](https://docs.python.org/3/tutorial/modules.html#packages) are a collection of modules with an init file. For installation of packages [pip](https://pypi.org/project/pip/) can be used."
   ]
  },
  {
   "cell_type": "code",
   "execution_count": null,
   "metadata": {},
   "outputs": [],
   "source": [
    "# Import a module\n",
    "import sys\n",
    "\n",
    "# Use dir function to find out what is defined within a module\n",
    "dir(sys)"
   ]
  },
  {
   "cell_type": "code",
   "execution_count": null,
   "metadata": {},
   "outputs": [],
   "source": [
    "# Install a package in the notebook\n",
    "!{sys.executable} -m pip install numpy"
   ]
  },
  {
   "cell_type": "code",
   "execution_count": null,
   "metadata": {},
   "outputs": [],
   "source": [
    "# Import with the import keyword\n",
    "import numpy\n",
    "\n",
    "# Make use of the module\n",
    "numpy.array([11,22])"
   ]
  },
  {
   "cell_type": "code",
   "execution_count": null,
   "metadata": {},
   "outputs": [],
   "source": [
    "# Import with different name\n",
    "import numpy as np\n",
    "\n",
    "np.array([11,22])\n",
    "\n",
    "# Or import only a part\n",
    "# from numpy import array\n",
    "# array([11,22])\n",
    "\n",
    "# Submodules can be referenced with a dot (.)"
   ]
  },
  {
   "cell_type": "markdown",
   "metadata": {},
   "source": [
    "### Exercises\n",
    "Description"
   ]
  },
  {
   "cell_type": "markdown",
   "metadata": {},
   "source": [
    "## Conditions and if-else statement\n",
    "This section introduces conditions and the [if-else statement](https://docs.python.org/3/reference/compound_stmts.html#the-if-statement)."
   ]
  },
  {
   "cell_type": "code",
   "execution_count": null,
   "metadata": {},
   "outputs": [],
   "source": [
    "# Define variables\n",
    "x = 3\n",
    "y = 5\n",
    "z = 7"
   ]
  },
  {
   "cell_type": "markdown",
   "metadata": {},
   "source": [
    "### Conditions"
   ]
  },
  {
   "cell_type": "code",
   "execution_count": null,
   "metadata": {},
   "outputs": [],
   "source": [
    "# Equals\n",
    "x == y"
   ]
  },
  {
   "cell_type": "code",
   "execution_count": null,
   "metadata": {},
   "outputs": [],
   "source": [
    "# Not equals\n",
    "condition = (x != y)\n",
    "print(condition)"
   ]
  },
  {
   "cell_type": "code",
   "execution_count": null,
   "metadata": {},
   "outputs": [],
   "source": [
    "# Less/Greater than AND less/greater than or equal to\n",
    "print(x < y)\n",
    "print(x <= y - 2)\n",
    "print(x > y)\n",
    "print(x >= y - 2)"
   ]
  },
  {
   "cell_type": "code",
   "execution_count": null,
   "metadata": {},
   "outputs": [],
   "source": [
    "# and, or, not - keywords\n",
    "print(x<y and x<z)\n",
    "print(x<y or x>z)\n",
    "print(not x<y)"
   ]
  },
  {
   "cell_type": "markdown",
   "metadata": {},
   "source": [
    "### If-else statement"
   ]
  },
  {
   "cell_type": "code",
   "execution_count": null,
   "metadata": {},
   "outputs": [],
   "source": [
    "# If-else statement\n",
    "if x > y:\n",
    "    print('x is greater than y')\n",
    "elif x > z:\n",
    "    print('x is greater than z but not greater than y')\n",
    "else:\n",
    "    print('y and z are both greater than x')"
   ]
  },
  {
   "cell_type": "code",
   "execution_count": null,
   "metadata": {},
   "outputs": [],
   "source": [
    "# Ternary operators\n",
    "\n",
    "# Short if\n",
    "if x < y: print('x is smaller than y')\n",
    "\n",
    "# Short if-else\n",
    "print('x is greater than y') if x > y else print('y is greater or equal to x')"
   ]
  },
  {
   "cell_type": "markdown",
   "metadata": {},
   "source": [
    "### Exercises\n",
    "Description"
   ]
  },
  {
   "cell_type": "markdown",
   "metadata": {},
   "source": [
    "## Loops\n",
    "There are two common loops in Python, the [for loop](https://docs.python.org/3/reference/compound_stmts.html#the-for-statement) and the [while loop](https://docs.python.org/3/reference/compound_stmts.html#the-while-statement). The for statement is used to iterate over iterables (e.g. strings, lists...). The while statement is used for repeating code blocks until a defined condition turns false.\n",
    "\n",
    "This section also introduces the [range type](https://docs.python.org/3/library/stdtypes.html?highlight=range#range) and [list comprehensions](https://docs.python.org/3/tutorial/datastructures.html?highlight=list%20comprehension#list-comprehensions)."
   ]
  },
  {
   "cell_type": "markdown",
   "metadata": {},
   "source": [
    "### Range function"
   ]
  },
  {
   "cell_type": "code",
   "execution_count": null,
   "metadata": {},
   "outputs": [],
   "source": [
    "# Define range that starts at 3 and stops before 20 with a step of 2\n",
    "example_range = range(3,20,2)\n",
    "\n",
    "# Print the type\n",
    "print(type(example_range))\n",
    "\n",
    "# Convert the range into a list\n",
    "list(example_range)"
   ]
  },
  {
   "cell_type": "markdown",
   "metadata": {},
   "source": [
    "### for statement"
   ]
  },
  {
   "cell_type": "code",
   "execution_count": null,
   "metadata": {},
   "outputs": [],
   "source": [
    "# Iterate through a list\n",
    "example_list = ['flower', 'tree', 'stone']\n",
    "for element in example_list:\n",
    "    print(element)"
   ]
  },
  {
   "cell_type": "code",
   "execution_count": null,
   "metadata": {},
   "outputs": [],
   "source": [
    "# Iterate using a range\n",
    "for element in range(6):\n",
    "    if element % 2 == True: print(element)"
   ]
  },
  {
   "cell_type": "markdown",
   "metadata": {},
   "source": [
    "### while statement"
   ]
  },
  {
   "cell_type": "code",
   "execution_count": null,
   "metadata": {},
   "outputs": [],
   "source": [
    "number = 4\n",
    "while number >= 0:\n",
    "    print(number)\n",
    "    number -= 2"
   ]
  },
  {
   "cell_type": "markdown",
   "metadata": {},
   "source": [
    "### List comprehensions\n",
    "List comprehension are used to create a new list out of an existing list. An expression and a condition can be used to define the new list. The old list will be unchanged.\n",
    "\n",
    "new_list = [expression for element in iterable if condition]"
   ]
  },
  {
   "cell_type": "code",
   "execution_count": null,
   "metadata": {},
   "outputs": [],
   "source": [
    "old_list = list(range(3))\n",
    "print(old_list)\n",
    "\n",
    "new_list = [element + 100 for element in old_list if element < 2]\n",
    "print(new_list)"
   ]
  },
  {
   "cell_type": "markdown",
   "metadata": {},
   "source": [
    "### Exercises\n",
    "Description"
   ]
  },
  {
   "cell_type": "markdown",
   "metadata": {},
   "source": [
    "## Pattern matching\n",
    "For structural pattern matching, the [match statement](https://docs.python.org/3/reference/compound_stmts.html#the-match-statement) is used in Python, since version 3.10."
   ]
  },
  {
   "cell_type": "code",
   "execution_count": null,
   "metadata": {},
   "outputs": [],
   "source": [
    "# status = 200\n",
    "#\n",
    "# match status:\n",
    "#     case 200:\n",
    "#         print('OK')\n",
    "#     case 500:\n",
    "#         print(\"Internal Server Error\")\n",
    "#     case _:\n",
    "#         print(\"Status code not known\")"
   ]
  },
  {
   "cell_type": "markdown",
   "metadata": {},
   "source": [
    "## File handling\n",
    "File handling, such as read and write, operations are supported by Python.\n",
    "- Before any operation can be performed the [open function](https://docs.python.org/3.11/library/functions.html?highlight=open#open) is used to load in files. A mode has to be specified to define how the file should be used (e.g. r for read and w for write).\n",
    "- Other useful functions include read, write and append functions.\n",
    "- Use the close function to free up resources immediately if not using the with keyword.\n",
    "- With the import of the os module rename (renaming a file) and remove (deleting a file) functions can be used.\n",
    "More on [reading and writing files](https://docs.python.org/3.11/tutorial/inputoutput.html#reading-and-writing-files)."
   ]
  },
  {
   "cell_type": "code",
   "execution_count": null,
   "metadata": {},
   "outputs": [],
   "source": [
    "# Open a txt file for reading operations\n",
    "file = open(file='sample.txt', mode='r')\n",
    "\n",
    "# Print each line of the file\n",
    "for line in file:\n",
    "    print(line)\n",
    "\n",
    "# Terminate all resources if not using the with keyword (see below)\n",
    "file.close()"
   ]
  },
  {
   "cell_type": "code",
   "execution_count": null,
   "metadata": {},
   "outputs": [],
   "source": [
    "# Create a file\n",
    "f = open('file.txt','w')\n",
    "\n",
    "f.write(\"Write something. \")\n",
    "f.write(\"Write more into the file. \")\n",
    "\n",
    "f.close()"
   ]
  },
  {
   "cell_type": "code",
   "execution_count": null,
   "metadata": {},
   "outputs": [],
   "source": [
    "# Append to a file\n",
    "f = open('file.txt','a')\n",
    "\n",
    "f.write(\"Append something.\")\n",
    "\n",
    "f.close()"
   ]
  },
  {
   "cell_type": "code",
   "execution_count": null,
   "metadata": {},
   "outputs": [],
   "source": [
    "# Rename a file\n",
    "import os\n",
    "\n",
    "os.rename('file.txt', 'fancy.txt')"
   ]
  },
  {
   "cell_type": "code",
   "execution_count": null,
   "metadata": {},
   "outputs": [],
   "source": [
    "# Delete a file\n",
    "os.remove('fancy.txt')"
   ]
  },
  {
   "cell_type": "markdown",
   "metadata": {},
   "source": [
    "### With statement\n",
    "Using the [with statement](https://docs.python.org/3/reference/compound_stmts.html#the-with-statement) is considered a good practice for file handling. The file is closed and frees up resources after the code block is executed."
   ]
  },
  {
   "cell_type": "code",
   "execution_count": null,
   "metadata": {},
   "outputs": [],
   "source": [
    "with open(\"sample.txt\") as file:\n",
    "    text = file.read()\n",
    "\n",
    "print(text)"
   ]
  },
  {
   "cell_type": "code",
   "execution_count": null,
   "metadata": {},
   "outputs": [],
   "source": [
    "# Check if file was closed automatically (no execution of the close function required)\n",
    "file.closed"
   ]
  },
  {
   "cell_type": "markdown",
   "metadata": {},
   "source": [
    "### Try statement\n",
    "The [try statement](https://docs.python.org/3/reference/compound_stmts.html#the-try-statement) is used to define how exceptions are handled for a group of statements."
   ]
  },
  {
   "cell_type": "code",
   "execution_count": null,
   "metadata": {},
   "outputs": [],
   "source": [
    "# Try to read in a file and print the error if not possible\n",
    "try:\n",
    "    with open('content.txt', 'r') as file:\n",
    "        contents = file.read()\n",
    "except IOError as e:\n",
    "    print(e)"
   ]
  },
  {
   "cell_type": "markdown",
   "metadata": {},
   "source": [
    "### Exercises\n",
    "Description\n",
    "create a function that creates a txt file with xx name and xx content + another function that appends more text to the already existing file. Create a function that deletes the file. Use the with keyword and handle exceptions with following message xxx"
   ]
  },
  {
   "cell_type": "markdown",
   "metadata": {},
   "source": [
    "## Optional typesystem\n",
    "Python is a dynamically typed language. The actual types are inferred during code execution. The module [typing](https://docs.python.org/3/library/typing.html) introduces runtime support for type hints. Reference for a [typing cheat sheet](https://mypy.readthedocs.io/en/stable/cheat_sheet_py3.html).\n",
    "\n",
    "Dynamic typing gives a lot of flexibility, which also comes with some drawbacks. Type annotations become more common as they serve as documentation purpose, better error handling etc. Read more about it [here](https://cerfacs.fr/coop/python-typing). User defined types are possible.\n",
    "\n",
    "It is important to know that the types are annotations and are ignored by the Python interpreter. The potential of type annotations can be used by leveraging type checkers, linters etc."
   ]
  },
  {
   "cell_type": "code",
   "execution_count": null,
   "metadata": {},
   "outputs": [],
   "source": [
    "# Some example usage for the optional typesystem\n",
    "my_number: int = 3\n",
    "my_string: str = 'hello'\n",
    "my_list: list[float] = [1.3, 2.4]\n",
    "\n",
    "def say_hello(name: str) -> str:\n",
    "    return 'hello ' + name\n",
    "\n",
    "def print_hello() -> None:\n",
    "    print('hello')"
   ]
  },
  {
   "cell_type": "markdown",
   "metadata": {},
   "source": [
    "### Exercises\n",
    "Description"
   ]
  },
  {
   "cell_type": "markdown",
   "metadata": {},
   "source": [
    "## [Optional] Classes\n",
    "Python classes are available for bundling data and functionality. \"Creating a new class creates a new type of object, allowing new instances of that type to be made. Each class instance can have attributes attached to it for maintaining its state.\". Read [more about classes](https://docs.python.org/3.11/tutorial/classes.html?highlight=object%20oriented%20programming) (e.g. inheritance...)."
   ]
  },
  {
   "cell_type": "code",
   "execution_count": null,
   "metadata": {},
   "outputs": [],
   "source": [
    "# Create a class object with two attributes (data, method)\n",
    "class ExampleClass:\n",
    "    class_value = 0\n",
    "    def add_one(self):\n",
    "        self.class_value += 1"
   ]
  },
  {
   "cell_type": "code",
   "execution_count": null,
   "metadata": {},
   "outputs": [],
   "source": [
    "# Reference class attributes\n",
    "print(ExampleClass.class_value)\n",
    "print(ExampleClass.add_one)"
   ]
  },
  {
   "cell_type": "code",
   "execution_count": null,
   "metadata": {},
   "outputs": [],
   "source": [
    "# Instantiate class\n",
    "exampleClass = ExampleClass()\n",
    "\n",
    "# Set class value\n",
    "exampleClass.class_value = 5\n",
    "exampleClass.add_one()\n",
    "\n",
    "print(exampleClass.class_value)"
   ]
  },
  {
   "cell_type": "code",
   "execution_count": null,
   "metadata": {},
   "outputs": [],
   "source": [
    "# class_value is a class variable shared by all instances\n",
    "# Defining an init function for a class introduces variables that are unique to each instance\n",
    "class AnotherClass:\n",
    "    class_value = 0\n",
    "    def __init__(self, instance_value):\n",
    "        self.instance_value = instance_value\n",
    "\n",
    "# Instantiate classes with init function\n",
    "first_class = AnotherClass('instance value 1')\n",
    "second_class = AnotherClass('instance value 2')\n",
    "\n",
    "print(first_class.class_value == second_class.class_value) # shared class value\n",
    "print(first_class.instance_value == second_class.instance_value) # unique instance value"
   ]
  },
  {
   "cell_type": "markdown",
   "metadata": {},
   "source": [
    "### Exercises\n",
    "Description"
   ]
  },
  {
   "cell_type": "markdown",
   "metadata": {},
   "source": [
    "## [Optional] Concurrent execution\n",
    "[Concurrent execution](https://docs.python.org/3/library/concurrency.html) handles multiple active processes at the same time.\n",
    "\n",
    "[Threading](https://docs.python.org/3/library/threading.html) enables concurrent execution by running multiple threads, switching between tasks, but not running in parallel.\n",
    "Initially there is no multi threading in the CPython implementation due to the [global interpreter lock](https://docs.python.org/3/glossary.html#term-global-interpreter-lock) and only one thread executes the code. Code runs on a default thread called the main thread. Threads run in a shared memory space and are a good option for CPU bound processing and I/O bound task execution.\n",
    "Short video introduction to [Python threading](https://www.youtube.com/watch?v=A_Z1lgZLSNc).\n",
    "\n",
    "[Multiprocessing](https://docs.python.org/3/library/multiprocessing.html) enables better use of computational resources of multicore machines and overcomes the global interpreter lock. Multiprocessing enables true parallelism. Processes have separate memory space and are a good option for I/O bound applications."
   ]
  },
  {
   "cell_type": "markdown",
   "metadata": {},
   "source": [
    "## [Optional] Other useful modules and packages\n",
    "To find modules for Python browse at https://pypi.org\n",
    "\n",
    "Useful modules for Python in the data space include the following (good to have heard about them):\n",
    "  - [Regex](https://docs.python.org/3.11/library/re.html?highlight=rx) for regular expression matching operations.\n",
    "  - [Math](https://docs.python.org/3.11/library/math.html?highlight=math#module-math) for mathematical functions.\n",
    "  - [NumPy](https://numpy.org/devdocs/index.html) is a fundamental package for scientific computing. It provides multidimensional arrays and the capability to perform fast operations (mathematical, statistical, algebraic etc.) on them.\n",
    "  - [Pandas](https://pandas.pydata.org/) is used for data analysis and manipulation. Fast and easy to use. Exploratory analysis is a very good usecase.\n",
    "  - [Matplotlib](https://matplotlib.org/) and [Seaborn](https://seaborn.pydata.org/) are both excellent visualisation tools.\n",
    "  - [scikit-learn](https://scikit-learn.org/stable/) is a machine learning library providing implementations for common algorithms for predictive data analysis."
   ]
  }
 ],
 "metadata": {
  "kernelspec": {
   "display_name": "Python 3 (ipykernel)",
   "language": "python",
   "name": "python3"
  },
  "language_info": {
   "codemirror_mode": {
    "name": "ipython",
    "version": 3
   },
   "file_extension": ".py",
   "mimetype": "text/x-python",
   "name": "python",
   "nbconvert_exporter": "python",
   "pygments_lexer": "ipython3",
   "version": "3.9.16"
  }
 },
 "nbformat": 4,
 "nbformat_minor": 1
}
