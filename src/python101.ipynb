{
  "cells": [
    {
      "cell_type": "markdown",
      "metadata": {
        "id": "z-qvlyoPi5HA"
      },
      "source": [
        "# Python 101\n",
        "Python is a high-level, interpreted, general purpose and open source programming language (build anything). It is a dynamically typed and garbage-collected language. Python supports multiple programming paradigms.\n",
        "Python was first released in 1991. With a strong community a lot of packages for data emerged. Python is a popular choice for data science and data engineering tasks.\n",
        "\n",
        "This notebook provides a short and fast overview of the Python language with small practical exercises. The focus is on syntax, to get you minimally familiar with Python to work through the DE Accelerated content without any problems. You can skip ahead to the exercises for testing your knowledge directly. For more details around Python please refer to the [official documentation](https://www.python.org/)."
      ]
    },
    {
      "cell_type": "markdown",
      "metadata": {
        "id": "ISej9bDZi5HA"
      },
      "source": [
        "## Python for calculations\n",
        "Short overview of common arithmetic operators."
      ]
    },
    {
      "cell_type": "code",
      "execution_count": 1,
      "metadata": {
        "colab": {
          "base_uri": "https://localhost:8080/"
        },
        "id": "BqZ_fx7Wi5HA",
        "outputId": "15f79137-93c2-4df6-958a-2d3b11be6abc"
      },
      "outputs": [
        {
          "output_type": "execute_result",
          "data": {
            "text/plain": [
              "8"
            ]
          },
          "metadata": {},
          "execution_count": 1
        }
      ],
      "source": [
        "# Addition\n",
        "6 + 2"
      ]
    },
    {
      "cell_type": "code",
      "execution_count": 2,
      "metadata": {
        "colab": {
          "base_uri": "https://localhost:8080/"
        },
        "id": "cqlcaIyxi5HB",
        "outputId": "0e5100d3-4505-4248-aea2-451b3f238457"
      },
      "outputs": [
        {
          "output_type": "execute_result",
          "data": {
            "text/plain": [
              "-1"
            ]
          },
          "metadata": {},
          "execution_count": 2
        }
      ],
      "source": [
        "# Subtraction\n",
        "3 - 4"
      ]
    },
    {
      "cell_type": "code",
      "execution_count": 3,
      "metadata": {
        "colab": {
          "base_uri": "https://localhost:8080/"
        },
        "id": "n2JuJIULi5HB",
        "outputId": "b2b94ce4-ad30-4e1c-d639-c3aeb2bf35c2"
      },
      "outputs": [
        {
          "output_type": "execute_result",
          "data": {
            "text/plain": [
              "12"
            ]
          },
          "metadata": {},
          "execution_count": 3
        }
      ],
      "source": [
        "# Multiplication\n",
        "3 * 4"
      ]
    },
    {
      "cell_type": "code",
      "execution_count": 4,
      "metadata": {
        "colab": {
          "base_uri": "https://localhost:8080/"
        },
        "id": "HG5UGlg0i5HB",
        "outputId": "99bd8522-c2c8-4fda-dfce-871dc4c87598"
      },
      "outputs": [
        {
          "output_type": "execute_result",
          "data": {
            "text/plain": [
              "0.75"
            ]
          },
          "metadata": {},
          "execution_count": 4
        }
      ],
      "source": [
        "# Division\n",
        "3 / 4"
      ]
    },
    {
      "cell_type": "code",
      "execution_count": 5,
      "metadata": {
        "colab": {
          "base_uri": "https://localhost:8080/"
        },
        "id": "ZirmLClJi5HB",
        "outputId": "58ea40db-4009-4577-9c9a-efafa21fc5d6"
      },
      "outputs": [
        {
          "output_type": "execute_result",
          "data": {
            "text/plain": [
              "1"
            ]
          },
          "metadata": {},
          "execution_count": 5
        }
      ],
      "source": [
        "# Modulo\n",
        "9 % 2"
      ]
    },
    {
      "cell_type": "code",
      "execution_count": 6,
      "metadata": {
        "colab": {
          "base_uri": "https://localhost:8080/"
        },
        "id": "mOVxgvP4i5HB",
        "outputId": "5036cee7-6b28-4fc2-cec1-2e4a7b16548a"
      },
      "outputs": [
        {
          "output_type": "execute_result",
          "data": {
            "text/plain": [
              "81"
            ]
          },
          "metadata": {},
          "execution_count": 6
        }
      ],
      "source": [
        "# Exponentiation\n",
        "9 ** 2"
      ]
    },
    {
      "cell_type": "markdown",
      "metadata": {
        "id": "CoUuyUGgi5HB"
      },
      "source": [
        "## Variables\n",
        "Variable names in Python (1) start with letter or underscore, (2) cannot start with a number, (3) only contain alphanumeric characters and underscores, and (4) are case-sensitive."
      ]
    },
    {
      "cell_type": "code",
      "execution_count": 7,
      "metadata": {
        "colab": {
          "base_uri": "https://localhost:8080/"
        },
        "id": "rihfblWMi5HB",
        "outputId": "03114462-a989-4686-ddac-a5b93daa9384"
      },
      "outputs": [
        {
          "output_type": "execute_result",
          "data": {
            "text/plain": [
              "0"
            ]
          },
          "metadata": {},
          "execution_count": 7
        }
      ],
      "source": [
        "# Assign a value to a variable\n",
        "count = 0\n",
        "count"
      ]
    },
    {
      "cell_type": "code",
      "execution_count": 8,
      "metadata": {
        "colab": {
          "base_uri": "https://localhost:8080/"
        },
        "id": "XcezttXTi5HB",
        "outputId": "a015b753-23c8-4e55-ebb1-59cd8a25f62c"
      },
      "outputs": [
        {
          "output_type": "execute_result",
          "data": {
            "text/plain": [
              "1"
            ]
          },
          "metadata": {},
          "execution_count": 8
        }
      ],
      "source": [
        "# Use of assignment operators\n",
        "count += 1 # same as count = count + 1\n",
        "count"
      ]
    },
    {
      "cell_type": "code",
      "execution_count": 9,
      "metadata": {
        "colab": {
          "base_uri": "https://localhost:8080/"
        },
        "id": "Hk_YkZ7ei5HB",
        "outputId": "d7516aff-aebb-45dc-9527-c94ed09f6d92"
      },
      "outputs": [
        {
          "output_type": "execute_result",
          "data": {
            "text/plain": [
              "15.0"
            ]
          },
          "metadata": {},
          "execution_count": 9
        }
      ],
      "source": [
        "# Multiple assignments in one line, calculating with variables\n",
        "triangle_base, triangle_height = 5, 6\n",
        "triangle_area = 0.5 * triangle_base * triangle_height\n",
        "triangle_area"
      ]
    },
    {
      "cell_type": "code",
      "execution_count": 10,
      "metadata": {
        "colab": {
          "base_uri": "https://localhost:8080/"
        },
        "id": "LI4gbRCKi5HB",
        "outputId": "a46fc2d4-60bb-429e-b254-f649561af57b"
      },
      "outputs": [
        {
          "output_type": "stream",
          "name": "stdout",
          "text": [
            "Hello Kim, how are you?\n"
          ]
        }
      ],
      "source": [
        "# Introducing the print function and the f string\n",
        "first_name = 'Kim'\n",
        "print(f'Hello {first_name}, how are you?')"
      ]
    },
    {
      "cell_type": "markdown",
      "metadata": {
        "id": "M2F9SR5Wi5HB"
      },
      "source": [
        "### Exercise for variables\n",
        "- Define a string variable `text` (set to string value of 'Average age').\n",
        "- Define two integer variables named `age_kim` (set to 20) and `age_luca` (set to 40).\n",
        "- Calculate the average age with the sum of Kim's and Lucas' age divided by two and assign the value to a variable `avg_age`.\n",
        "- Use the print function to output the average age string followed by a colon, followed by the average age. Use the f string for it."
      ]
    },
    {
      "cell_type": "code",
      "execution_count": 12,
      "metadata": {
        "colab": {
          "base_uri": "https://localhost:8080/"
        },
        "id": "ZD7yFgADi5HB",
        "outputId": "10eafbde-7b05-4f8e-9761-2a27dd3a7a4d"
      },
      "outputs": [
        {
          "output_type": "stream",
          "name": "stdout",
          "text": [
            "Average age, 30.0\n"
          ]
        }
      ],
      "source": [
        "# Your code goes here\n",
        "text = 'Average age'\n",
        "age_kim = 20\n",
        "age_luca = 40\n",
        "avg_age = (age_kim + age_luca) / 2\n",
        "print(f'{text}, {avg_age}')"
      ]
    },
    {
      "cell_type": "markdown",
      "metadata": {
        "id": "xIQafwOHi5HB"
      },
      "source": [
        "## Types and type conversion\n",
        "Python has type inference (automatic detection of the data type of the expression). Common data types include Integer, Float, String and Boolean."
      ]
    },
    {
      "cell_type": "code",
      "execution_count": 13,
      "metadata": {
        "colab": {
          "base_uri": "https://localhost:8080/"
        },
        "id": "FpGB8EC6i5HB",
        "outputId": "7871034f-d6ae-4610-d177-163a189563d6"
      },
      "outputs": [
        {
          "output_type": "execute_result",
          "data": {
            "text/plain": [
              "int"
            ]
          },
          "metadata": {},
          "execution_count": 13
        }
      ],
      "source": [
        "# Integer\n",
        "participants = 90\n",
        "type(participants)"
      ]
    },
    {
      "cell_type": "code",
      "execution_count": 14,
      "metadata": {
        "colab": {
          "base_uri": "https://localhost:8080/"
        },
        "id": "G_0OXjJ4i5HB",
        "outputId": "c2e4fdc6-b8a4-487e-8bb9-c5aa251ea5e8"
      },
      "outputs": [
        {
          "output_type": "execute_result",
          "data": {
            "text/plain": [
              "float"
            ]
          },
          "metadata": {},
          "execution_count": 14
        }
      ],
      "source": [
        "# Float\n",
        "distance = 3.5\n",
        "type(distance)"
      ]
    },
    {
      "cell_type": "code",
      "execution_count": 15,
      "metadata": {
        "colab": {
          "base_uri": "https://localhost:8080/"
        },
        "id": "WfiKr8NCi5HB",
        "outputId": "8a42f668-1725-4af1-9630-9e69299c49dc"
      },
      "outputs": [
        {
          "output_type": "execute_result",
          "data": {
            "text/plain": [
              "str"
            ]
          },
          "metadata": {},
          "execution_count": 15
        }
      ],
      "source": [
        "# String\n",
        "text = \"text\"\n",
        "another_text = 'another text'\n",
        "type(text)"
      ]
    },
    {
      "cell_type": "code",
      "execution_count": 16,
      "metadata": {
        "colab": {
          "base_uri": "https://localhost:8080/"
        },
        "id": "bx3jvxYSi5HB",
        "outputId": "32f57cf6-81ff-4cf0-a0a0-64eb86554b8f"
      },
      "outputs": [
        {
          "output_type": "execute_result",
          "data": {
            "text/plain": [
              "bool"
            ]
          },
          "metadata": {},
          "execution_count": 16
        }
      ],
      "source": [
        "# Boolean\n",
        "condition = True\n",
        "type(condition)"
      ]
    },
    {
      "cell_type": "code",
      "execution_count": 30,
      "metadata": {
        "id": "HeprpQ9ei5HB"
      },
      "outputs": [],
      "source": [
        "# Convert variable to a preferred data type with e.g. int(), float(), str(), bool()\n",
        "distance_as_string = str(condition)\n",
        "distance_as_string = int(condition)"
      ]
    },
    {
      "cell_type": "markdown",
      "metadata": {
        "id": "fQetcTRui5HC"
      },
      "source": [
        "### Exercise for type conversion\n",
        "- Covert both variables into float\n",
        "- Divide `var1` by `var2` and store the result in a variable\n",
        "- Convert the result variable `result` into integer\n",
        "- Get the type of the result variable `result` and assign it to the type variable `type_result`\n",
        "- Comment out and run the assertions to see if they pass"
      ]
    },
    {
      "cell_type": "code",
      "execution_count": 25,
      "metadata": {
        "id": "cWtpRpwWi5HC"
      },
      "outputs": [],
      "source": [
        "var1 = True\n",
        "var2 = \".3\"\n",
        "\n",
        "# Your code goes here\n",
        "result = int(float(var1) / float(var2))\n",
        "type_result = type(result)"
      ]
    },
    {
      "cell_type": "code",
      "execution_count": 31,
      "metadata": {
        "colab": {
          "base_uri": "https://localhost:8080/"
        },
        "id": "5bPFM4K4i5HC",
        "outputId": "238ba2be-3e7f-48ca-d9d8-1fb228bb7c58"
      },
      "outputs": [
        {
          "output_type": "stream",
          "name": "stdout",
          "text": [
            "Test passed!\n"
          ]
        }
      ],
      "source": [
        "if (result or type_result) is None:\n",
        "    print(\"Test did not pass! Go implement!\")\n",
        "else:\n",
        "    assert result == 3\n",
        "    assert type_result is int\n",
        "    print(\"Test passed!\")"
      ]
    },
    {
      "cell_type": "markdown",
      "metadata": {
        "id": "eZvUDRy4i5HC"
      },
      "source": [
        "## Lists\n",
        "[Lists](https://docs.python.org/3/library/stdtypes.html#lists) are mutable sequences of values that can be of a single type (typical) or different types. A list itself is a type. The next sections cover the following points:\n",
        "- Create a list\n",
        "- Access a list\n",
        "- Manipulate a list\n",
        "- Copy a list\n",
        "- Join lists\n",
        "- Sort and reverse a list"
      ]
    },
    {
      "cell_type": "markdown",
      "metadata": {
        "id": "XEexwX59i5HC"
      },
      "source": [
        "### Create a list\n",
        "A list can hold values from the (1) same type or (2) any types (including e.g. list itself)."
      ]
    },
    {
      "cell_type": "code",
      "execution_count": 32,
      "metadata": {
        "colab": {
          "base_uri": "https://localhost:8080/"
        },
        "id": "MraD7fV8i5HC",
        "outputId": "49a4f073-0649-4f87-b07b-a950eb7e8749"
      },
      "outputs": [
        {
          "output_type": "execute_result",
          "data": {
            "text/plain": [
              "list"
            ]
          },
          "metadata": {},
          "execution_count": 32
        }
      ],
      "source": [
        "# Create a list with values of the same type\n",
        "items = ['avocado', 'mushrooms', 'pasta', 'tomato', 'spinach'] # or use type constructor e.g. list(('avocado','pasta')) returns ['avocado', 'pasta']\n",
        "type(items)"
      ]
    },
    {
      "cell_type": "code",
      "execution_count": 33,
      "metadata": {
        "colab": {
          "base_uri": "https://localhost:8080/"
        },
        "id": "1Q1aAZZSi5HC",
        "outputId": "8a6611b9-9947-423e-ad81-51d010e3c2c4"
      },
      "outputs": [
        {
          "output_type": "stream",
          "name": "stdout",
          "text": [
            "<class 'list'>\n",
            "[['avocado', 2], ['mushrooms', 2.5], ['pasta', 1.56]]\n"
          ]
        }
      ],
      "source": [
        "# Create a list with lists\n",
        "items_with_price = [['avocado', 2],\n",
        "                    ['mushrooms', 2.5],\n",
        "                    ['pasta', 1.56]]\n",
        "\n",
        "print(type(items_with_price))\n",
        "print(items_with_price)"
      ]
    },
    {
      "cell_type": "code",
      "execution_count": 34,
      "metadata": {
        "colab": {
          "base_uri": "https://localhost:8080/"
        },
        "id": "COgQ1sTAi5HC",
        "outputId": "7a66c4f4-45d0-4686-9d52-75635d91748d"
      },
      "outputs": [
        {
          "output_type": "stream",
          "name": "stdout",
          "text": [
            "<class 'list'>\n",
            "[3, 'hello', ['i', 5555, True], False, 44, 4.555]\n"
          ]
        }
      ],
      "source": [
        "# Create a list with different types\n",
        "some_value = 44\n",
        "another_list = [3, 'hello', ['i', 5555, True], False, some_value, 4.555]\n",
        "\n",
        "print(type(another_list))\n",
        "print(another_list)"
      ]
    },
    {
      "cell_type": "markdown",
      "metadata": {
        "id": "yaHh3cTri5HC"
      },
      "source": [
        "### Access a list\n",
        "Use indexing and slicing to extract a subset of values from a list."
      ]
    },
    {
      "cell_type": "code",
      "execution_count": 37,
      "metadata": {
        "colab": {
          "base_uri": "https://localhost:8080/",
          "height": 35
        },
        "id": "cGzOyGgbi5HC",
        "outputId": "25c92f59-54f3-4a20-ed3c-5c7a7fee6bdb"
      },
      "outputs": [
        {
          "output_type": "execute_result",
          "data": {
            "text/plain": [
              "'mushrooms'"
            ],
            "application/vnd.google.colaboratory.intrinsic+json": {
              "type": "string"
            }
          },
          "metadata": {},
          "execution_count": 37
        }
      ],
      "source": [
        "# Indexing second element\n",
        "items[1]"
      ]
    },
    {
      "cell_type": "code",
      "execution_count": 38,
      "metadata": {
        "colab": {
          "base_uri": "https://localhost:8080/",
          "height": 35
        },
        "id": "psWZFmr6i5HC",
        "outputId": "0637179c-247e-4e49-aa22-74989a928114"
      },
      "outputs": [
        {
          "output_type": "execute_result",
          "data": {
            "text/plain": [
              "'spinach'"
            ],
            "application/vnd.google.colaboratory.intrinsic+json": {
              "type": "string"
            }
          },
          "metadata": {},
          "execution_count": 38
        }
      ],
      "source": [
        "# Indexing last element\n",
        "items[-1]"
      ]
    },
    {
      "cell_type": "code",
      "execution_count": 39,
      "metadata": {
        "colab": {
          "base_uri": "https://localhost:8080/"
        },
        "id": "EmTj__a0i5HC",
        "outputId": "be3d8bac-3341-433b-d944-2f273cff31d0"
      },
      "outputs": [
        {
          "output_type": "execute_result",
          "data": {
            "text/plain": [
              "['tomato', 'spinach']"
            ]
          },
          "metadata": {},
          "execution_count": 39
        }
      ],
      "source": [
        "# List slicing with defining start and end index\n",
        "# Start index included, end index excluded\n",
        "items[3:5]"
      ]
    },
    {
      "cell_type": "code",
      "execution_count": 40,
      "metadata": {
        "colab": {
          "base_uri": "https://localhost:8080/"
        },
        "id": "wIFjV6vti5HC",
        "outputId": "f4d5ec44-d09a-43e3-d832-9385754aacbd"
      },
      "outputs": [
        {
          "output_type": "execute_result",
          "data": {
            "text/plain": [
              "['avocado', 'mushrooms', 'pasta']"
            ]
          },
          "metadata": {},
          "execution_count": 40
        }
      ],
      "source": [
        "# List slicing with defining either start or end index\n",
        "items[:3]"
      ]
    },
    {
      "cell_type": "markdown",
      "metadata": {
        "id": "213zPxZ6i5HC"
      },
      "source": [
        "### Manipulate a list\n",
        "There are many more ways to manipulate a list. Here are some common ones."
      ]
    },
    {
      "cell_type": "code",
      "execution_count": 41,
      "metadata": {
        "colab": {
          "base_uri": "https://localhost:8080/"
        },
        "id": "_lyPIQKvi5HC",
        "outputId": "2eb77f5b-49cd-4608-e65b-f66ecf8f53be"
      },
      "outputs": [
        {
          "output_type": "execute_result",
          "data": {
            "text/plain": [
              "['avocado', 'mushrooms', 'pasta', 'tomato', 'spinach']"
            ]
          },
          "metadata": {},
          "execution_count": 41
        }
      ],
      "source": [
        "# Look at current list elements\n",
        "items"
      ]
    },
    {
      "cell_type": "code",
      "execution_count": 42,
      "metadata": {
        "colab": {
          "base_uri": "https://localhost:8080/"
        },
        "id": "1lCxk1uui5HC",
        "outputId": "f413eb2f-aaf0-4d57-9219-2f2121eb0de0"
      },
      "outputs": [
        {
          "output_type": "execute_result",
          "data": {
            "text/plain": [
              "['avocado', 'mushrooms', 'pasta', 'apple', 'spinach']"
            ]
          },
          "metadata": {},
          "execution_count": 42
        }
      ],
      "source": [
        "# Changing an element\n",
        "items[3] = 'apple'\n",
        "items"
      ]
    },
    {
      "cell_type": "code",
      "execution_count": 43,
      "metadata": {
        "colab": {
          "base_uri": "https://localhost:8080/"
        },
        "id": "aS8zzpZGi5HC",
        "outputId": "c9b6d9df-6f3c-4a72-f62a-9ee424f1eeaa"
      },
      "outputs": [
        {
          "output_type": "execute_result",
          "data": {
            "text/plain": [
              "['strawberry', 'raspberry', 'pasta', 'apple', 'spinach']"
            ]
          },
          "metadata": {},
          "execution_count": 43
        }
      ],
      "source": [
        "# Changing elements\n",
        "items[:2] = ['strawberry', 'raspberry']\n",
        "items"
      ]
    },
    {
      "cell_type": "code",
      "execution_count": 44,
      "metadata": {
        "colab": {
          "base_uri": "https://localhost:8080/"
        },
        "id": "mMRJ4d2Wi5HC",
        "outputId": "47a50c06-54f4-4400-fe60-02a6655c1992"
      },
      "outputs": [
        {
          "output_type": "stream",
          "name": "stdout",
          "text": [
            "['strawberry', 'raspberry', 'pasta', 'apple', 'spinach', 'cherry', 'kale']\n",
            "['strawberry', 'raspberry', 'watermelon', 'pasta', 'apple', 'spinach', 'cherry', 'kale']\n",
            "['strawberry', 'raspberry', 'watermelon', 'pasta', 'apple', 'spinach', 'cherry', 'kale', 'pizza']\n"
          ]
        }
      ],
      "source": [
        "# Adding elements\n",
        "items += ['cherry', 'kale']\n",
        "print(items)\n",
        "\n",
        "items.insert(2, 'watermelon')\n",
        "print(items)\n",
        "\n",
        "items.append('pizza')\n",
        "print(items)"
      ]
    },
    {
      "cell_type": "code",
      "execution_count": 45,
      "metadata": {
        "colab": {
          "base_uri": "https://localhost:8080/"
        },
        "id": "BsuaeAjBi5HC",
        "outputId": "781ee381-235d-476d-8e81-ec2e151d5751"
      },
      "outputs": [
        {
          "output_type": "stream",
          "name": "stdout",
          "text": [
            "['raspberry', 'watermelon', 'pasta', 'apple', 'spinach', 'cherry', 'kale', 'pizza']\n",
            "['raspberry', 'watermelon', 'pasta', 'apple', 'spinach', 'cherry', 'kale']\n"
          ]
        }
      ],
      "source": [
        "# Deleting elements\n",
        "del(items[0]) # or use remove('strawberry), pop(0)\n",
        "print(items)\n",
        "\n",
        "items.remove('pizza')\n",
        "print(items)"
      ]
    },
    {
      "cell_type": "code",
      "execution_count": 46,
      "metadata": {
        "colab": {
          "base_uri": "https://localhost:8080/"
        },
        "id": "wfRRtWBGi5HC",
        "outputId": "85332bbf-7ab4-40bf-f686-47d1af50b07b"
      },
      "outputs": [
        {
          "output_type": "execute_result",
          "data": {
            "text/plain": [
              "[]"
            ]
          },
          "metadata": {},
          "execution_count": 46
        }
      ],
      "source": [
        "# Clear all elements from a list\n",
        "items.clear()\n",
        "items"
      ]
    },
    {
      "cell_type": "markdown",
      "metadata": {
        "id": "f0CwW259i5HC"
      },
      "source": [
        "### Copy a list"
      ]
    },
    {
      "cell_type": "code",
      "execution_count": 47,
      "metadata": {
        "colab": {
          "base_uri": "https://localhost:8080/"
        },
        "id": "i6C1gCzmi5HD",
        "outputId": "500973ad-1da3-495e-aa11-fb3daedbff39"
      },
      "outputs": [
        {
          "output_type": "execute_result",
          "data": {
            "text/plain": [
              "['apple', 'orange']"
            ]
          },
          "metadata": {},
          "execution_count": 47
        }
      ],
      "source": [
        "# Use list() function if you don't want to assign a reference but want to create a new list with the same values\n",
        "original_items = ['apple', 'orange']\n",
        "new_items = list(original_items) # or use items[:] or items.copy()\n",
        "new_items"
      ]
    },
    {
      "cell_type": "markdown",
      "metadata": {
        "id": "pilOjcOdi5HD"
      },
      "source": [
        "### Join lists"
      ]
    },
    {
      "cell_type": "code",
      "execution_count": 48,
      "metadata": {
        "colab": {
          "base_uri": "https://localhost:8080/"
        },
        "id": "waj5nVL0i5HD",
        "outputId": "386d8367-8dad-4c83-8ac4-efb5502fb39a"
      },
      "outputs": [
        {
          "output_type": "execute_result",
          "data": {
            "text/plain": [
              "['apple', 'orange', 'orange']"
            ]
          },
          "metadata": {},
          "execution_count": 48
        }
      ],
      "source": [
        "# Remove item from original items\n",
        "del(original_items[0])\n",
        "\n",
        "# Join two lists\n",
        "joined_list = new_items + original_items\n",
        "joined_list"
      ]
    },
    {
      "cell_type": "markdown",
      "metadata": {
        "id": "l0u4Gra2i5HD"
      },
      "source": [
        "### Sort and reverse a list"
      ]
    },
    {
      "cell_type": "code",
      "execution_count": 49,
      "metadata": {
        "colab": {
          "base_uri": "https://localhost:8080/"
        },
        "id": "ho2yzd1Ri5HD",
        "outputId": "9c73fc4c-ad9a-44c7-f6b3-ec6a2a632329"
      },
      "outputs": [
        {
          "output_type": "stream",
          "name": "stdout",
          "text": [
            "[0, 1, 10, 100, 1000]\n",
            "[1000, 100, 10, 1, 0]\n"
          ]
        }
      ],
      "source": [
        "# Sort lists\n",
        "number_list = [10,100,1,0,1000]\n",
        "number_list.sort()\n",
        "print(number_list)\n",
        "\n",
        "# Reverse sort\n",
        "number_list.sort(reverse = True)\n",
        "print(number_list)"
      ]
    },
    {
      "cell_type": "code",
      "execution_count": 50,
      "metadata": {
        "colab": {
          "base_uri": "https://localhost:8080/"
        },
        "id": "8N_2cao4i5HD",
        "outputId": "2b512d4a-d7a6-4ee8-ccc2-a500365aae2d"
      },
      "outputs": [
        {
          "output_type": "execute_result",
          "data": {
            "text/plain": [
              "[0, 1, 10, 100, 1000]"
            ]
          },
          "metadata": {},
          "execution_count": 50
        }
      ],
      "source": [
        "# Reverse order of list\n",
        "number_list.reverse()\n",
        "number_list"
      ]
    },
    {
      "cell_type": "markdown",
      "metadata": {
        "id": "0wiASHmMi5HD"
      },
      "source": [
        "### Exercise for lists\n",
        "- Create a list `numbers` with the values 9,23,35 and 2\n",
        "- Delete the first value\n",
        "- Alter the last two values by multiplying them by 2\n",
        "- Append the numbers 15 and 50\n",
        "- Sort the list in reverse order"
      ]
    },
    {
      "cell_type": "code",
      "execution_count": 73,
      "metadata": {
        "id": "y7RlfPnji5HD"
      },
      "outputs": [],
      "source": [
        "# Your code goes here\n",
        "numbers = [9, 23, 35, 2]\n",
        "del(numbers[0])\n",
        "numbers[1:3] = [numbers[1] * 2, numbers[2] * 2]\n",
        "numbers += [15, 50]\n",
        "numbers.sort(reverse = True)"
      ]
    },
    {
      "cell_type": "code",
      "execution_count": 74,
      "metadata": {
        "colab": {
          "base_uri": "https://localhost:8080/"
        },
        "id": "4bDfUw2ei5HD",
        "outputId": "22435ce5-08ee-4bc0-b8ed-81c1f11b63df"
      },
      "outputs": [
        {
          "output_type": "stream",
          "name": "stdout",
          "text": [
            "Test passed!\n"
          ]
        }
      ],
      "source": [
        "if numbers is None:\n",
        "    print(\"Test did not pass! Go implement!\")\n",
        "else:\n",
        "    assert numbers == [70, 50, 23, 15, 4]\n",
        "    print(\"Test passed!\")"
      ]
    },
    {
      "cell_type": "markdown",
      "metadata": {
        "id": "vzdLEAEbi5HD"
      },
      "source": [
        "## Tuples, dictionaries and sets\n",
        "Other common data types include the tuple, dictionary and set."
      ]
    },
    {
      "cell_type": "markdown",
      "metadata": {
        "id": "Y419raPdi5HD"
      },
      "source": [
        "### Tuple\n",
        "[Tuples](https://docs.python.org/3/library/stdtypes.html#tuples) are sequences of values that are immutable and ordered. Duplicates are allowed. Values are indexed and can be from any type."
      ]
    },
    {
      "cell_type": "code",
      "execution_count": 82,
      "metadata": {
        "colab": {
          "base_uri": "https://localhost:8080/"
        },
        "id": "wvJ9unX8i5HD",
        "outputId": "7167fe33-897e-4a68-e623-707dfe28fdae"
      },
      "outputs": [
        {
          "output_type": "execute_result",
          "data": {
            "text/plain": [
              "tuple"
            ]
          },
          "metadata": {},
          "execution_count": 82
        }
      ],
      "source": [
        "tuple_example = (12, 'word', True)\n",
        "type(tuple_example)"
      ]
    },
    {
      "cell_type": "markdown",
      "metadata": {
        "id": "3K6DCnvfi5HD"
      },
      "source": [
        "### Dictionary\n",
        "[Dictionaries](https://docs.python.org/3/library/stdtypes.html#dict) are mutable collections used to store key to value pairs. Hashable values (keys) are mapped to any kind of object (values). Keys have one data type while the values can be from any type. Duplicates are not allowed."
      ]
    },
    {
      "cell_type": "code",
      "execution_count": 76,
      "metadata": {
        "colab": {
          "base_uri": "https://localhost:8080/"
        },
        "id": "XIPdr-lJi5HD",
        "outputId": "b1f4b47c-6180-4f6c-b11c-65548bd7221c"
      },
      "outputs": [
        {
          "output_type": "execute_result",
          "data": {
            "text/plain": [
              "dict"
            ]
          },
          "metadata": {},
          "execution_count": 76
        }
      ],
      "source": [
        "dict_example = {'firstKey': 1, 'secondKey': 2, 'thirdKey': 3} # or dict(firstKey=1, secondKey=2, thirdKey=3)\n",
        "type(dict_example)"
      ]
    },
    {
      "cell_type": "markdown",
      "metadata": {
        "id": "8y_jIwxri5HD"
      },
      "source": [
        "### Set\n",
        "[Sets](https://docs.python.org/3/library/stdtypes.html#set) are unordered and un-indexed collections. Duplicates are not allowed. The items within the set are immutable but items can be removed or added. Items can be from any type."
      ]
    },
    {
      "cell_type": "code",
      "execution_count": 83,
      "metadata": {
        "colab": {
          "base_uri": "https://localhost:8080/"
        },
        "id": "D47LlSbzi5HD",
        "outputId": "a7dfdd9c-371a-4b06-d9e3-2ca1a2825bbb"
      },
      "outputs": [
        {
          "output_type": "execute_result",
          "data": {
            "text/plain": [
              "set"
            ]
          },
          "metadata": {},
          "execution_count": 83
        }
      ],
      "source": [
        "set_example = {'word1', True, 34}\n",
        "type(set_example)"
      ]
    },
    {
      "cell_type": "markdown",
      "metadata": {
        "id": "1_7YhBPAi5HD"
      },
      "source": [
        "## Indentation\n",
        "Python uses [indentation](https://docs.python.org/3.11/reference/lexical_analysis.html#indentation) in the form of white spaces to indicate blocks of code. Indentation is therefore a must. Mixing tabs and spaces is disallowed (often spaces preferred).\n",
        "[Explicit line joining](https://docs.python.org/3.11/reference/lexical_analysis.html#explicit-line-joining) (using the backslash) and [Implicit line joining](https://docs.python.org/3.11/reference/lexical_analysis.html#implicit-line-joining) (for content within parentheses, square brackets or curly braces) are additional ways to structure code (e.g. for better readability)."
      ]
    },
    {
      "cell_type": "code",
      "execution_count": 84,
      "metadata": {
        "colab": {
          "base_uri": "https://localhost:8080/"
        },
        "id": "-h6DeWzzi5HD",
        "outputId": "2d6c7a33-9b83-4129-aeae-6f055558f5d5"
      },
      "outputs": [
        {
          "output_type": "execute_result",
          "data": {
            "text/plain": [
              "['a', 'b', 'c', 'd', 'e']"
            ]
          },
          "metadata": {},
          "execution_count": 84
        }
      ],
      "source": [
        "# Explicit line joining\n",
        "full_list = ['a', 'b'] \\\n",
        "    + ['c'] \\\n",
        "    + ['d', 'e']\n",
        "\n",
        "full_list"
      ]
    },
    {
      "cell_type": "code",
      "execution_count": 85,
      "metadata": {
        "colab": {
          "base_uri": "https://localhost:8080/"
        },
        "id": "BQ3Ofaesi5HD",
        "outputId": "fc6c566e-083e-4aef-a530-cb90bfaaaa74"
      },
      "outputs": [
        {
          "output_type": "execute_result",
          "data": {
            "text/plain": [
              "['Monday', 'Tuesday', 'Wednesday', 'Thursday', 'Friday', 'Saturday', 'Sunday']"
            ]
          },
          "metadata": {},
          "execution_count": 85
        }
      ],
      "source": [
        "# Implicit line joining\n",
        "another_list = ['Monday', 'Tuesday', 'Wednesday',\n",
        "                'Thursday', 'Friday', 'Saturday',\n",
        "                'Sunday']\n",
        "\n",
        "another_list"
      ]
    },
    {
      "cell_type": "markdown",
      "metadata": {
        "id": "VsgfLC97i5HD"
      },
      "source": [
        "## Functions and methods\n",
        "[Functions](https://docs.python.org/3/library/stdtypes.html#functions) are reusable code that has to be invoked to run and can be defined in Python with the `def` keyword.\n",
        "[Methods](https://docs.python.org/3/library/stdtypes.html#methods) are functions, either built-in methods (e.g. string methods) or class instance methods."
      ]
    },
    {
      "cell_type": "code",
      "execution_count": 86,
      "metadata": {
        "colab": {
          "base_uri": "https://localhost:8080/"
        },
        "id": "NB5b57u2i5HD",
        "outputId": "f85f4978-664d-4e6f-8313-a9588f4d6409"
      },
      "outputs": [
        {
          "output_type": "stream",
          "name": "stdout",
          "text": [
            "Hello\n"
          ]
        }
      ],
      "source": [
        "# Defining and invoking a function\n",
        "def print_hello():\n",
        "    print('Hello')\n",
        "\n",
        "print_hello()"
      ]
    },
    {
      "cell_type": "code",
      "execution_count": 87,
      "metadata": {
        "colab": {
          "base_uri": "https://localhost:8080/"
        },
        "id": "FN92D1b_i5HD",
        "outputId": "94e7593b-0716-4eaa-8bb6-c4b586da87e3"
      },
      "outputs": [
        {
          "output_type": "execute_result",
          "data": {
            "text/plain": [
              "15.0"
            ]
          },
          "metadata": {},
          "execution_count": 87
        }
      ],
      "source": [
        "# Define a function with arguments/parameters and return statement\n",
        "def calculate_triangle_area(base, height):\n",
        "    return 0.5 * base * height\n",
        "\n",
        "calculate_triangle_area(base = 5, height = 6)"
      ]
    },
    {
      "cell_type": "code",
      "execution_count": 88,
      "metadata": {
        "colab": {
          "base_uri": "https://localhost:8080/"
        },
        "id": "HvqHKKTii5HD",
        "outputId": "a2eb44da-bab7-4c6d-b573-cc126d0d2177"
      },
      "outputs": [
        {
          "output_type": "stream",
          "name": "stdout",
          "text": [
            "Help on built-in function print in module builtins:\n",
            "\n",
            "print(*args, sep=' ', end='\\n', file=None, flush=False)\n",
            "    Prints the values to a stream, or to sys.stdout by default.\n",
            "\n",
            "    sep\n",
            "      string inserted between values, default a space.\n",
            "    end\n",
            "      string appended after the last value, default a newline.\n",
            "    file\n",
            "      a file-like object (stream); defaults to the current sys.stdout.\n",
            "    flush\n",
            "      whether to forcibly flush the stream.\n",
            "\n"
          ]
        }
      ],
      "source": [
        "# Use the help method to get more context\n",
        "help(print)"
      ]
    },
    {
      "cell_type": "markdown",
      "metadata": {
        "id": "0sww8bW4i5HD"
      },
      "source": [
        "### Lambda functions\n",
        "Lambdas are small anonymous functions. They are efficient for simple expressions (single line statements) and if a function should be used only once."
      ]
    },
    {
      "cell_type": "code",
      "execution_count": 89,
      "metadata": {
        "colab": {
          "base_uri": "https://localhost:8080/"
        },
        "id": "RHH-Ty__i5HD",
        "outputId": "5c4a3fcf-58e6-43aa-ead8-41dd08209193"
      },
      "outputs": [
        {
          "output_type": "execute_result",
          "data": {
            "text/plain": [
              "9"
            ]
          },
          "metadata": {},
          "execution_count": 89
        }
      ],
      "source": [
        "# A function defined by the def keyword\n",
        "def add_two_numbers(val1, val2):\n",
        "    return val1 + val2\n",
        "\n",
        "# Equivalent lambda function\n",
        "lambda_add_two_numbers = lambda a, b: a + b\n",
        "lambda_add_two_numbers(4,5)"
      ]
    },
    {
      "cell_type": "code",
      "execution_count": 90,
      "metadata": {
        "colab": {
          "base_uri": "https://localhost:8080/"
        },
        "id": "pW9JLmw3i5HD",
        "outputId": "8794928b-7e0c-4405-8125-b5439c48d434"
      },
      "outputs": [
        {
          "output_type": "execute_result",
          "data": {
            "text/plain": [
              "10"
            ]
          },
          "metadata": {},
          "execution_count": 90
        }
      ],
      "source": [
        "# Passing in a function as arguments\n",
        "example_function = lambda a, b, func: a * func(a,b)\n",
        "example_function(2, 3, lambda a, b: a + b)"
      ]
    },
    {
      "cell_type": "markdown",
      "metadata": {
        "id": "u2moE2Xui5HD"
      },
      "source": [
        "### Map, filter and reduce\n",
        "Map, filter and reduce are higher order functions. Map and filter are built-in functions. Reduce has to be imported from the functools.\n",
        "- The [map](https://docs.python.org/3/library/functions.html?highlight=map#map) function takes a function and iterables as arguments. The function is applied to every element in an iterable (e.g. on each element of a list).\n",
        "- The [filter](https://docs.python.org/3/library/functions.html?highlight=filter#filter) function filters elements based on a function. The output contains the elements for which the applied passed in function returned true.\n",
        "- The [reduce](https://docs.python.org/3/library/functools.html?highlight=reduce#functools.reduce) function applies a provided function on the provided iterables. A single value is returned."
      ]
    },
    {
      "cell_type": "code",
      "execution_count": 91,
      "metadata": {
        "colab": {
          "base_uri": "https://localhost:8080/"
        },
        "id": "5S_yPsuOi5HD",
        "outputId": "b20876e9-27c0-4c14-bd3a-603fa89889e6"
      },
      "outputs": [
        {
          "output_type": "execute_result",
          "data": {
            "text/plain": [
              "[0, 1, 2, 3]"
            ]
          },
          "metadata": {},
          "execution_count": 91
        }
      ],
      "source": [
        "# Map with map(function, iterables)\n",
        "example_list = [1,2,3,4]\n",
        "\n",
        "list(map(lambda a: a-1, example_list))"
      ]
    },
    {
      "cell_type": "code",
      "execution_count": 92,
      "metadata": {
        "colab": {
          "base_uri": "https://localhost:8080/"
        },
        "id": "TgvWXNnQi5HE",
        "outputId": "2e05d0af-ed4c-49ce-8d8f-653211de7f00"
      },
      "outputs": [
        {
          "output_type": "execute_result",
          "data": {
            "text/plain": [
              "[2, 3, 4]"
            ]
          },
          "metadata": {},
          "execution_count": 92
        }
      ],
      "source": [
        "# Filter with filter(function, iterables)\n",
        "example_list = [1,2,3,4]\n",
        "\n",
        "list(filter(lambda a: a>=2, example_list))"
      ]
    },
    {
      "cell_type": "code",
      "execution_count": 93,
      "metadata": {
        "colab": {
          "base_uri": "https://localhost:8080/"
        },
        "id": "W8DVEXOAi5HE",
        "outputId": "2d84d55d-d1ac-43b8-cee9-7fa82231f141"
      },
      "outputs": [
        {
          "output_type": "execute_result",
          "data": {
            "text/plain": [
              "10"
            ]
          },
          "metadata": {},
          "execution_count": 93
        }
      ],
      "source": [
        "# Reduce with reduce(function, iterables)\n",
        "from functools import reduce\n",
        "\n",
        "example_list = [1,2,3,4]\n",
        "\n",
        "reduce(lambda a,b: a+b, example_list)"
      ]
    },
    {
      "cell_type": "markdown",
      "metadata": {
        "id": "k7zCPf-ci5HE"
      },
      "source": [
        "### Exercises for functions\n",
        "1 Create a function `join_two_lists` that joins two lists, then sorts them and returns the result.\n",
        "2 Create a function `retrieve_odd_numbers` that takes in a list and returns a list with only odd numbers.\n",
        "3 Create a lambda function `calculate_cuboid_volume` that calculates the volume of a cuboid (height times width times depth)."
      ]
    },
    {
      "cell_type": "code",
      "execution_count": 101,
      "metadata": {
        "id": "TVsqb5sbi5HE"
      },
      "outputs": [],
      "source": [
        "# 1 Your code goes here\n",
        "join_two_lists = lambda list1, list2: sorted(list1 + list2)"
      ]
    },
    {
      "cell_type": "code",
      "execution_count": 100,
      "metadata": {
        "colab": {
          "base_uri": "https://localhost:8080/"
        },
        "id": "5FdeIuN2i5HE",
        "outputId": "6290294b-9601-4dc3-abfe-322048ecf873"
      },
      "outputs": [
        {
          "output_type": "stream",
          "name": "stdout",
          "text": [
            "Test passed!\n"
          ]
        }
      ],
      "source": [
        "def test_join_two_lists():\n",
        "    if join_two_lists is None:\n",
        "        print(\"Test did not pass! Go implement!\")\n",
        "    else:\n",
        "        list1 = [5, 4]\n",
        "        list2 = [3, 9]\n",
        "        assert join_two_lists(list1, list2) == [3, 4, 5, 9]\n",
        "        print(\"Test passed!\")\n",
        "\n",
        "test_join_two_lists()"
      ]
    },
    {
      "cell_type": "code",
      "execution_count": 109,
      "metadata": {
        "id": "KI_RgGHLi5HE"
      },
      "outputs": [],
      "source": [
        "# 2 Your code goes here\n",
        "retrieve_odd_numbers = lambda number_list: list(filter(lambda a: a % 2 != 0, number_list))"
      ]
    },
    {
      "cell_type": "code",
      "execution_count": 110,
      "metadata": {
        "colab": {
          "base_uri": "https://localhost:8080/"
        },
        "id": "tRAMriigi5HE",
        "outputId": "c58945f2-78ee-415c-ea80-eafa401ea77e"
      },
      "outputs": [
        {
          "output_type": "stream",
          "name": "stdout",
          "text": [
            "Test passed!\n"
          ]
        }
      ],
      "source": [
        "def test_retrieve_odd_numbers():\n",
        "    if retrieve_odd_numbers is None:\n",
        "        print(\"Test did not pass! Go implement!\")\n",
        "    else:\n",
        "        nums = [5, 6, 4, 2, 1]\n",
        "        assert retrieve_odd_numbers(nums) == [5, 1]\n",
        "        print(\"Test passed!\")\n",
        "\n",
        "test_retrieve_odd_numbers()"
      ]
    },
    {
      "cell_type": "code",
      "execution_count": 111,
      "metadata": {
        "id": "QSBKlN0gi5HE"
      },
      "outputs": [],
      "source": [
        "# 3 Your code goes here\n",
        "calculate_cuboid_volume = lambda height, width, depth: height * width * depth"
      ]
    },
    {
      "cell_type": "code",
      "execution_count": 112,
      "metadata": {
        "colab": {
          "base_uri": "https://localhost:8080/"
        },
        "id": "C52dWAdwi5HE",
        "outputId": "9e26d141-75c5-4689-a2ed-5c24311b616e"
      },
      "outputs": [
        {
          "output_type": "stream",
          "name": "stdout",
          "text": [
            "Test passed!\n"
          ]
        }
      ],
      "source": [
        "def test_calculate_cuboid_volume():\n",
        "    if calculate_cuboid_volume is None:\n",
        "        print(\"Test did not pass! Go implement!\")\n",
        "    else:\n",
        "        height = 2\n",
        "        width = 5\n",
        "        depth = 2\n",
        "        assert calculate_cuboid_volume(height, width, depth) == 20\n",
        "        print(\"Test passed!\")\n",
        "\n",
        "test_calculate_cuboid_volume()"
      ]
    },
    {
      "cell_type": "markdown",
      "metadata": {
        "id": "b9lliJGki5HE"
      },
      "source": [
        "## Modules and packages\n",
        "[Modules](https://docs.python.org/3/tutorial/modules.html) can be .py files with various functions and variables.\n",
        "[Packages](https://docs.python.org/3/tutorial/modules.html#packages) are a collection of modules with an init file. For installation of packages [pip](https://pypi.org/project/pip/) can be used."
      ]
    },
    {
      "cell_type": "code",
      "execution_count": 113,
      "metadata": {
        "colab": {
          "base_uri": "https://localhost:8080/"
        },
        "id": "h6QAnce0i5HE",
        "outputId": "edfb61dc-b117-4fa3-f9cf-bd623f90f578"
      },
      "outputs": [
        {
          "output_type": "execute_result",
          "data": {
            "text/plain": [
              "['__breakpointhook__',\n",
              " '__displayhook__',\n",
              " '__doc__',\n",
              " '__excepthook__',\n",
              " '__interactivehook__',\n",
              " '__loader__',\n",
              " '__name__',\n",
              " '__package__',\n",
              " '__spec__',\n",
              " '__stderr__',\n",
              " '__stdin__',\n",
              " '__stdout__',\n",
              " '__unraisablehook__',\n",
              " '_base_executable',\n",
              " '_clear_type_cache',\n",
              " '_current_exceptions',\n",
              " '_current_frames',\n",
              " '_debugmallocstats',\n",
              " '_framework',\n",
              " '_getframe',\n",
              " '_getframemodulename',\n",
              " '_git',\n",
              " '_home',\n",
              " '_setprofileallthreads',\n",
              " '_settraceallthreads',\n",
              " '_stdlib_dir',\n",
              " '_xoptions',\n",
              " 'abiflags',\n",
              " 'activate_stack_trampoline',\n",
              " 'addaudithook',\n",
              " 'api_version',\n",
              " 'argv',\n",
              " 'audit',\n",
              " 'base_exec_prefix',\n",
              " 'base_prefix',\n",
              " 'breakpointhook',\n",
              " 'builtin_module_names',\n",
              " 'byteorder',\n",
              " 'call_tracing',\n",
              " 'copyright',\n",
              " 'deactivate_stack_trampoline',\n",
              " 'displayhook',\n",
              " 'dont_write_bytecode',\n",
              " 'exc_info',\n",
              " 'excepthook',\n",
              " 'exception',\n",
              " 'exec_prefix',\n",
              " 'executable',\n",
              " 'exit',\n",
              " 'flags',\n",
              " 'float_info',\n",
              " 'float_repr_style',\n",
              " 'get_asyncgen_hooks',\n",
              " 'get_coroutine_origin_tracking_depth',\n",
              " 'get_int_max_str_digits',\n",
              " 'getallocatedblocks',\n",
              " 'getdefaultencoding',\n",
              " 'getdlopenflags',\n",
              " 'getfilesystemencodeerrors',\n",
              " 'getfilesystemencoding',\n",
              " 'getprofile',\n",
              " 'getrecursionlimit',\n",
              " 'getrefcount',\n",
              " 'getsizeof',\n",
              " 'getswitchinterval',\n",
              " 'gettrace',\n",
              " 'getunicodeinternedsize',\n",
              " 'hash_info',\n",
              " 'hexversion',\n",
              " 'implementation',\n",
              " 'int_info',\n",
              " 'intern',\n",
              " 'is_finalizing',\n",
              " 'is_stack_trampoline_active',\n",
              " 'last_traceback',\n",
              " 'last_type',\n",
              " 'last_value',\n",
              " 'maxsize',\n",
              " 'maxunicode',\n",
              " 'meta_path',\n",
              " 'modules',\n",
              " 'monitoring',\n",
              " 'orig_argv',\n",
              " 'path',\n",
              " 'path_hooks',\n",
              " 'path_importer_cache',\n",
              " 'platform',\n",
              " 'platlibdir',\n",
              " 'prefix',\n",
              " 'ps1',\n",
              " 'ps2',\n",
              " 'ps3',\n",
              " 'pycache_prefix',\n",
              " 'set_asyncgen_hooks',\n",
              " 'set_coroutine_origin_tracking_depth',\n",
              " 'set_int_max_str_digits',\n",
              " 'setdlopenflags',\n",
              " 'setprofile',\n",
              " 'setrecursionlimit',\n",
              " 'setswitchinterval',\n",
              " 'settrace',\n",
              " 'stderr',\n",
              " 'stdin',\n",
              " 'stdlib_module_names',\n",
              " 'stdout',\n",
              " 'thread_info',\n",
              " 'unraisablehook',\n",
              " 'version',\n",
              " 'version_info',\n",
              " 'warnoptions']"
            ]
          },
          "metadata": {},
          "execution_count": 113
        }
      ],
      "source": [
        "# Import a module\n",
        "import sys\n",
        "\n",
        "# Use dir function to find out what is defined within a module\n",
        "dir(sys)"
      ]
    },
    {
      "cell_type": "code",
      "execution_count": 114,
      "metadata": {
        "colab": {
          "base_uri": "https://localhost:8080/"
        },
        "id": "PTnoiZZti5HE",
        "outputId": "42badcf1-83f1-4115-a995-a513517a49cd"
      },
      "outputs": [
        {
          "output_type": "stream",
          "name": "stdout",
          "text": [
            "Requirement already satisfied: numpy in /usr/local/lib/python3.12/dist-packages (2.0.2)\n"
          ]
        }
      ],
      "source": [
        "# Install a package in the notebook\n",
        "!{sys.executable} -m pip install numpy"
      ]
    },
    {
      "cell_type": "code",
      "execution_count": 115,
      "metadata": {
        "colab": {
          "base_uri": "https://localhost:8080/"
        },
        "id": "ZN_eXJ7ui5HE",
        "outputId": "84138840-4024-4395-9c37-e4f7bdc07045"
      },
      "outputs": [
        {
          "output_type": "execute_result",
          "data": {
            "text/plain": [
              "array([11, 22])"
            ]
          },
          "metadata": {},
          "execution_count": 115
        }
      ],
      "source": [
        "# Import with the import keyword\n",
        "import numpy\n",
        "\n",
        "# Make use of the module\n",
        "numpy.array([11,22])"
      ]
    },
    {
      "cell_type": "code",
      "execution_count": 116,
      "metadata": {
        "colab": {
          "base_uri": "https://localhost:8080/"
        },
        "id": "L0i0bj8si5HE",
        "outputId": "868e87fb-c9a6-416d-e78d-63baef04cbcf"
      },
      "outputs": [
        {
          "output_type": "execute_result",
          "data": {
            "text/plain": [
              "array([11, 22])"
            ]
          },
          "metadata": {},
          "execution_count": 116
        }
      ],
      "source": [
        "# Import with different name\n",
        "import numpy as np\n",
        "\n",
        "np.array([11,22])\n",
        "\n",
        "# Or import only a part\n",
        "# from numpy import array\n",
        "# array([11,22])\n",
        "\n",
        "# Submodules can be referenced with a dot (.)"
      ]
    },
    {
      "cell_type": "markdown",
      "metadata": {
        "id": "Suwihn8li5HE"
      },
      "source": [
        "## Conditions and if-else statement\n",
        "This section introduces conditions and the [if-else statement](https://docs.python.org/3/reference/compound_stmts.html#the-if-statement)."
      ]
    },
    {
      "cell_type": "code",
      "execution_count": 117,
      "metadata": {
        "id": "E3IfN6jwi5HE"
      },
      "outputs": [],
      "source": [
        "# Define variables\n",
        "x = 3\n",
        "y = 5\n",
        "z = 7"
      ]
    },
    {
      "cell_type": "markdown",
      "metadata": {
        "id": "O940QBrci5HE"
      },
      "source": [
        "### Conditions"
      ]
    },
    {
      "cell_type": "code",
      "execution_count": 118,
      "metadata": {
        "colab": {
          "base_uri": "https://localhost:8080/"
        },
        "id": "ceyoqdqCi5HE",
        "outputId": "9fe87036-f222-4947-c6a7-7ee24778d83d"
      },
      "outputs": [
        {
          "output_type": "execute_result",
          "data": {
            "text/plain": [
              "False"
            ]
          },
          "metadata": {},
          "execution_count": 118
        }
      ],
      "source": [
        "# Equals\n",
        "x == y"
      ]
    },
    {
      "cell_type": "code",
      "execution_count": 119,
      "metadata": {
        "colab": {
          "base_uri": "https://localhost:8080/"
        },
        "id": "nC-q9oXZi5HE",
        "outputId": "c11c8257-967e-41aa-9c38-d7df0d4cef0a"
      },
      "outputs": [
        {
          "output_type": "stream",
          "name": "stdout",
          "text": [
            "True\n"
          ]
        }
      ],
      "source": [
        "# Not equals\n",
        "condition = (x != y)\n",
        "print(condition)"
      ]
    },
    {
      "cell_type": "code",
      "execution_count": 120,
      "metadata": {
        "colab": {
          "base_uri": "https://localhost:8080/"
        },
        "id": "bU6euUBxi5HE",
        "outputId": "37f217bb-ecee-4fe5-b6a6-d1414ac685a9"
      },
      "outputs": [
        {
          "output_type": "stream",
          "name": "stdout",
          "text": [
            "True\n",
            "True\n",
            "False\n",
            "True\n"
          ]
        }
      ],
      "source": [
        "# Less/Greater than AND less/greater than or equal to\n",
        "print(x < y)\n",
        "print(x <= y - 2)\n",
        "print(x > y)\n",
        "print(x >= y - 2)"
      ]
    },
    {
      "cell_type": "code",
      "execution_count": 121,
      "metadata": {
        "colab": {
          "base_uri": "https://localhost:8080/"
        },
        "id": "CCn4aBAUi5HE",
        "outputId": "2735a0d4-8af7-4752-8ab8-b6c9f8509a9c"
      },
      "outputs": [
        {
          "output_type": "stream",
          "name": "stdout",
          "text": [
            "True\n",
            "True\n",
            "False\n"
          ]
        }
      ],
      "source": [
        "# and, or, not - keywords\n",
        "print(x<y and x<z)\n",
        "print(x<y or x>z)\n",
        "print(not x<y)"
      ]
    },
    {
      "cell_type": "markdown",
      "metadata": {
        "id": "9n3IET-ui5HE"
      },
      "source": [
        "### If-else statement"
      ]
    },
    {
      "cell_type": "code",
      "execution_count": 122,
      "metadata": {
        "colab": {
          "base_uri": "https://localhost:8080/"
        },
        "id": "MyOLR_3si5HE",
        "outputId": "f5b55539-fa5d-4955-a808-35cabd5b5f43"
      },
      "outputs": [
        {
          "output_type": "stream",
          "name": "stdout",
          "text": [
            "y and z are both greater than x\n"
          ]
        }
      ],
      "source": [
        "# If-else statement\n",
        "if x > y:\n",
        "    print('x is greater than y')\n",
        "elif x > z:\n",
        "    print('x is greater than z but not greater than y')\n",
        "else:\n",
        "    print('y and z are both greater than x')"
      ]
    },
    {
      "cell_type": "code",
      "execution_count": null,
      "metadata": {
        "id": "djZYKtv2i5HE"
      },
      "outputs": [],
      "source": [
        "# Ternary operators\n",
        "\n",
        "# Short if\n",
        "if x < y: print('x is smaller than y')\n",
        "\n",
        "# Short if-else\n",
        "print('x is greater than y') if x > y else print('y is greater or equal to x')"
      ]
    },
    {
      "cell_type": "markdown",
      "metadata": {
        "id": "peH6Q1nzi5HE"
      },
      "source": [
        "### Exercise for conditions\n",
        "Create a function `is_negative` that returns true if the number is smaller than 0 else false. Try both with and without ternary operator."
      ]
    },
    {
      "cell_type": "code",
      "execution_count": 126,
      "metadata": {
        "id": "dktDLIYDi5HE"
      },
      "outputs": [],
      "source": [
        "# Your code goes here\n",
        "is_negative = lambda number: number < 0"
      ]
    },
    {
      "cell_type": "code",
      "execution_count": 127,
      "metadata": {
        "colab": {
          "base_uri": "https://localhost:8080/"
        },
        "id": "TIOc1NgZi5HE",
        "outputId": "0ce26895-a26a-4575-fa6b-efa2de421bf3"
      },
      "outputs": [
        {
          "output_type": "stream",
          "name": "stdout",
          "text": [
            "Test passed!\n"
          ]
        }
      ],
      "source": [
        "def test_is_negative():\n",
        "    if is_negative is None:\n",
        "        print(\"Test did not pass! Go implement!\")\n",
        "    else:\n",
        "        assert is_negative(-1) == True\n",
        "        assert is_negative(0) == False\n",
        "        assert is_negative(1) == False\n",
        "        print(\"Test passed!\")\n",
        "\n",
        "test_is_negative()"
      ]
    },
    {
      "cell_type": "markdown",
      "metadata": {
        "id": "QDqk2aF7i5HE"
      },
      "source": [
        "## Loops\n",
        "There are two common loops in Python, the [for loop](https://docs.python.org/3/reference/compound_stmts.html#the-for-statement) and the [while loop](https://docs.python.org/3/reference/compound_stmts.html#the-while-statement). The for statement is used to iterate over iterables (e.g. strings, lists...). The while statement is used for repeating code blocks until a defined condition turns false.\n",
        "\n",
        "This section also introduces the [range type](https://docs.python.org/3/library/stdtypes.html?highlight=range#range) and [list comprehensions](https://docs.python.org/3/tutorial/datastructures.html?highlight=list%20comprehension#list-comprehensions)."
      ]
    },
    {
      "cell_type": "markdown",
      "metadata": {
        "id": "VL37Z2PBi5HF"
      },
      "source": [
        "### Range function"
      ]
    },
    {
      "cell_type": "code",
      "execution_count": 128,
      "metadata": {
        "colab": {
          "base_uri": "https://localhost:8080/"
        },
        "id": "KmLaTPP0i5HF",
        "outputId": "ecf40eaf-2d2d-4621-a9c7-61450060d214"
      },
      "outputs": [
        {
          "output_type": "stream",
          "name": "stdout",
          "text": [
            "<class 'range'>\n"
          ]
        },
        {
          "output_type": "execute_result",
          "data": {
            "text/plain": [
              "[3, 5, 7, 9, 11, 13, 15, 17, 19]"
            ]
          },
          "metadata": {},
          "execution_count": 128
        }
      ],
      "source": [
        "# Define range that starts at 3 and stops before 20 with a step of 2\n",
        "example_range = range(3,20,2)\n",
        "\n",
        "# Print the type\n",
        "print(type(example_range))\n",
        "\n",
        "# Convert the range into a list\n",
        "list(example_range)"
      ]
    },
    {
      "cell_type": "markdown",
      "metadata": {
        "id": "HfJ5eKQKi5HF"
      },
      "source": [
        "### for statement"
      ]
    },
    {
      "cell_type": "code",
      "execution_count": 129,
      "metadata": {
        "colab": {
          "base_uri": "https://localhost:8080/"
        },
        "id": "fP1u-Jd5i5HF",
        "outputId": "60c0d38c-404d-45c7-ba6d-84cf20b895cd"
      },
      "outputs": [
        {
          "output_type": "stream",
          "name": "stdout",
          "text": [
            "flower\n",
            "tree\n",
            "stone\n"
          ]
        }
      ],
      "source": [
        "# Iterate through a list\n",
        "example_list = ['flower', 'tree', 'stone']\n",
        "for element in example_list:\n",
        "    print(element)"
      ]
    },
    {
      "cell_type": "code",
      "execution_count": 130,
      "metadata": {
        "colab": {
          "base_uri": "https://localhost:8080/"
        },
        "id": "NDpq7w8ni5HF",
        "outputId": "42e2a8c6-707b-491b-8c76-ce4ab42676a5"
      },
      "outputs": [
        {
          "output_type": "stream",
          "name": "stdout",
          "text": [
            "1\n",
            "3\n",
            "5\n"
          ]
        }
      ],
      "source": [
        "# Iterate using a range\n",
        "for element in range(6):\n",
        "    if element % 2 == True: print(element)"
      ]
    },
    {
      "cell_type": "markdown",
      "metadata": {
        "id": "1dnVWofMi5HF"
      },
      "source": [
        "### while statement"
      ]
    },
    {
      "cell_type": "code",
      "execution_count": 131,
      "metadata": {
        "colab": {
          "base_uri": "https://localhost:8080/"
        },
        "id": "F4Uwg-o0i5HF",
        "outputId": "04466826-449a-4265-cb50-5ea2008a5345"
      },
      "outputs": [
        {
          "output_type": "stream",
          "name": "stdout",
          "text": [
            "4\n",
            "2\n",
            "0\n"
          ]
        }
      ],
      "source": [
        "number = 4\n",
        "while number >= 0:\n",
        "    print(number)\n",
        "    number -= 2"
      ]
    },
    {
      "cell_type": "markdown",
      "metadata": {
        "id": "Hs0AiAy6i5HF"
      },
      "source": [
        "### List comprehensions\n",
        "List comprehension are used to create a new list out of an existing list. An expression and a condition can be used to define the new list. The old list will be unchanged.\n",
        "\n",
        "new_list = [expression for element in iterable if condition]"
      ]
    },
    {
      "cell_type": "code",
      "execution_count": 132,
      "metadata": {
        "colab": {
          "base_uri": "https://localhost:8080/"
        },
        "id": "CW2i15nmi5HF",
        "outputId": "d2701360-2dce-46ba-b4ec-4229c1547788"
      },
      "outputs": [
        {
          "output_type": "stream",
          "name": "stdout",
          "text": [
            "[0, 1, 2]\n",
            "[100, 101]\n"
          ]
        }
      ],
      "source": [
        "old_list = list(range(3))\n",
        "print(old_list)\n",
        "\n",
        "new_list = [element + 100 for element in old_list if element < 2]\n",
        "print(new_list)"
      ]
    },
    {
      "cell_type": "markdown",
      "metadata": {
        "id": "l1NqlDOfi5HF"
      },
      "source": [
        "### Exercises\n",
        "Create a function `sum_of_odd_numbers_in_range` that takes in a start and end parameter as integers and calculates the sum out of the odd integer values of the range defined by the start and end parameter."
      ]
    },
    {
      "cell_type": "code",
      "execution_count": 136,
      "outputs": [],
      "source": [
        "# Your code goes here\n",
        "sum_of_odd_numbers_in_range = lambda init, end: sum(number for number in range (init, end) if number % 2 == True)"
      ],
      "metadata": {
        "id": "WlXMH7J7i5HF"
      }
    },
    {
      "cell_type": "code",
      "execution_count": 137,
      "outputs": [
        {
          "output_type": "stream",
          "name": "stdout",
          "text": [
            "Test passed!\n"
          ]
        }
      ],
      "source": [
        "def test_sum_of_odd_numbers_in_range():\n",
        "    if sum_of_odd_numbers_in_range is None:\n",
        "        print(\"Test did not pass! Go implement!\")\n",
        "    else:\n",
        "        assert sum_of_odd_numbers_in_range(2,4) == 3\n",
        "        assert sum_of_odd_numbers_in_range(-3,4) == 0\n",
        "        assert sum_of_odd_numbers_in_range(-4,2) == -3\n",
        "        print(\"Test passed!\")\n",
        "\n",
        "test_sum_of_odd_numbers_in_range()"
      ],
      "metadata": {
        "colab": {
          "base_uri": "https://localhost:8080/"
        },
        "id": "udH1ScMHi5HF",
        "outputId": "ac540efb-1908-476f-8ccc-9bd46a00e39d"
      }
    },
    {
      "cell_type": "markdown",
      "metadata": {
        "id": "66OBUmlei5HF"
      },
      "source": [
        "## Pattern matching\n",
        "For structural pattern matching, the [match statement](https://docs.python.org/3/reference/compound_stmts.html#the-match-statement) is used in Python, since version 3.10."
      ]
    },
    {
      "cell_type": "code",
      "execution_count": 138,
      "metadata": {
        "colab": {
          "base_uri": "https://localhost:8080/"
        },
        "id": "mxTM53eNi5HF",
        "outputId": "12913f26-2ea9-4842-f6dc-c4cf3eea96dd"
      },
      "outputs": [
        {
          "output_type": "stream",
          "name": "stdout",
          "text": [
            "OK\n"
          ]
        }
      ],
      "source": [
        "status = 200\n",
        "\n",
        "match status:\n",
        "    case 200:\n",
        "        print('OK')\n",
        "    case 500:\n",
        "        print(\"Internal Server Error\")\n",
        "    case _:\n",
        "        print(\"Status code not known\")"
      ]
    },
    {
      "cell_type": "markdown",
      "metadata": {
        "id": "3SICEgQei5HF"
      },
      "source": [
        "## File handling\n",
        "File handling, such as read and write, operations are supported by Python.\n",
        "- Before any operation can be performed the [`open` function](https://docs.python.org/3.11/library/functions.html?highlight=open#open) is used to load in files. A mode has to be specified to define how the file should be used (e.g. `r` for read and `w` for write).\n",
        "- Other useful functions include `read`, `write` and `append` functions.\n",
        "- Use the `close` function to free up resources immediately if not using the `with` keyword.\n",
        "- With the import of the os module `rename` (renaming a file) and `remove` (deleting a file) functions can be used.\n",
        "\n",
        "More on [reading and writing files](https://docs.python.org/3.11/tutorial/inputoutput.html#reading-and-writing-files)."
      ]
    },
    {
      "cell_type": "code",
      "execution_count": 140,
      "metadata": {
        "colab": {
          "base_uri": "https://localhost:8080/"
        },
        "id": "muvBE7BVi5HF",
        "outputId": "0191323d-83bd-49f3-d1c7-4cfc0504ba2f"
      },
      "outputs": [
        {
          "output_type": "stream",
          "name": "stdout",
          "text": [
            "This is a sample file.\n",
            "\n",
            "There is nothing interesting here.\n",
            "\n",
            "Presentation purpose.\n"
          ]
        }
      ],
      "source": [
        "# If you started jupyter notebook in the src folder you should be able to see a sample.txt file next to the python101.ipynb file in your tree under localhost:<port>/tree\n",
        "\n",
        "# Open a txt file for reading operations\n",
        "file = open(file='sample.txt', mode='r')\n",
        "\n",
        "# Print each line of the file\n",
        "for line in file:\n",
        "    print(line)\n",
        "\n",
        "# Terminate all resources if not using the with keyword (see below)\n",
        "file.close()"
      ]
    },
    {
      "cell_type": "code",
      "execution_count": 141,
      "metadata": {
        "id": "UKDYcbsHi5HF"
      },
      "outputs": [],
      "source": [
        "# Create a file\n",
        "f = open('file.txt','w')\n",
        "\n",
        "f.write(\"Write something. \")\n",
        "f.write(\"Write more into the file. \")\n",
        "\n",
        "f.close()\n",
        "\n",
        "# You should be able to see a new file named file.txt under your tree under localhost:<port>/tree"
      ]
    },
    {
      "cell_type": "code",
      "execution_count": 142,
      "metadata": {
        "id": "y9UL9IEWi5HF"
      },
      "outputs": [],
      "source": [
        "# Append to a file\n",
        "f = open('file.txt','a')\n",
        "\n",
        "f.write(\"Append something.\")\n",
        "\n",
        "f.close()\n",
        "\n",
        "# You can check if the file.txt has more content now"
      ]
    },
    {
      "cell_type": "code",
      "execution_count": 143,
      "metadata": {
        "id": "K71LqeCBi5HF"
      },
      "outputs": [],
      "source": [
        "# Rename a file\n",
        "import os\n",
        "\n",
        "os.rename('file.txt', 'fancy.txt')\n",
        "\n",
        "# You should be able to see that the file previously named file.txt is now fancy.txt under your tree under localhost:<port>/tree"
      ]
    },
    {
      "cell_type": "code",
      "execution_count": 144,
      "metadata": {
        "id": "aMNGSV2Pi5HF"
      },
      "outputs": [],
      "source": [
        "# Delete a file\n",
        "os.remove('fancy.txt')\n",
        "\n",
        "# The fancy.txt file should be removed and not visible anymore in your tree"
      ]
    },
    {
      "cell_type": "markdown",
      "metadata": {
        "id": "dLdLaBIci5HF"
      },
      "source": [
        "### With statement\n",
        "Using the [with statement](https://docs.python.org/3/reference/compound_stmts.html#the-with-statement) is considered a good practice for file handling. The file is closed and frees up resources after the code block is executed."
      ]
    },
    {
      "cell_type": "code",
      "execution_count": 145,
      "metadata": {
        "colab": {
          "base_uri": "https://localhost:8080/"
        },
        "id": "Kmbl5pjei5HF",
        "outputId": "731eb812-f0cc-43d6-9a1a-35b47edfc2b1"
      },
      "outputs": [
        {
          "output_type": "stream",
          "name": "stdout",
          "text": [
            "This is a sample file.\n",
            "There is nothing interesting here.\n",
            "Presentation purpose.\n"
          ]
        }
      ],
      "source": [
        "with open(\"sample.txt\") as file:\n",
        "    text = file.read()\n",
        "\n",
        "print(text)"
      ]
    },
    {
      "cell_type": "code",
      "execution_count": null,
      "metadata": {
        "id": "IYFSbT5si5HF"
      },
      "outputs": [],
      "source": [
        "# Check if file was closed automatically (no execution of the close function required)\n",
        "file.closed"
      ]
    },
    {
      "cell_type": "markdown",
      "metadata": {
        "id": "MqKIdMxTi5HF"
      },
      "source": [
        "### Try statement\n",
        "The [try statement](https://docs.python.org/3/reference/compound_stmts.html#the-try-statement) is used to define how exceptions are handled for a group of statements."
      ]
    },
    {
      "cell_type": "code",
      "execution_count": 146,
      "metadata": {
        "colab": {
          "base_uri": "https://localhost:8080/"
        },
        "id": "3TwR03lBi5HF",
        "outputId": "041e87c6-ec04-499c-cd54-4ac61f7d419a"
      },
      "outputs": [
        {
          "output_type": "stream",
          "name": "stdout",
          "text": [
            "[Errno 2] No such file or directory: 'content.txt'\n"
          ]
        }
      ],
      "source": [
        "# Try to read in a file and print the error if not possible\n",
        "try:\n",
        "    with open('content.txt', 'r') as file:\n",
        "        contents = file.read()\n",
        "except IOError as e:\n",
        "    print(e)"
      ]
    },
    {
      "cell_type": "markdown",
      "metadata": {
        "id": "Hj31hEEQi5HF"
      },
      "source": [
        "### Exercises for file handling\n",
        "Play around by creating (1) a function that creates a txt file and (2) another function that appends more text to the already existing file. (3) Create a function that deletes the file.\n",
        "\n",
        "Use the with keyword and handle exceptions."
      ]
    },
    {
      "cell_type": "code",
      "execution_count": 153,
      "metadata": {
        "id": "--mmAdjCi5HF"
      },
      "outputs": [],
      "source": [
        "# Your code goes here\n",
        "import os\n",
        "\n",
        "f = open('file.txt', 'w')\n",
        "f.close()\n",
        "\n",
        "f = open('file.txt', 'a')\n",
        "f.write('Hello world')\n",
        "\n",
        "os.remove('file.txt')"
      ]
    },
    {
      "cell_type": "markdown",
      "metadata": {
        "id": "HlscuTGWi5HG"
      },
      "source": [
        "## Optional typesystem\n",
        "Python is a dynamically typed language. The actual types are inferred during code execution. The module [typing](https://docs.python.org/3/library/typing.html) introduces runtime support for type hints. Reference for a [typing cheat sheet](https://mypy.readthedocs.io/en/stable/cheat_sheet_py3.html).\n",
        "\n",
        "Dynamic typing gives a lot of flexibility, which also comes with some drawbacks. Type annotations become more common as they serve as documentation purpose, better error handling etc. Read more about it [here](https://cerfacs.fr/coop/python-typing). User defined types are possible.\n",
        "\n",
        "It is important to know that the types are annotations and are ignored by the Python interpreter. The potential of type annotations can be used by leveraging type checkers, linters etc."
      ]
    },
    {
      "cell_type": "code",
      "execution_count": 158,
      "metadata": {
        "id": "FKj3E8U0i5HG"
      },
      "outputs": [],
      "source": [
        "# Some example usage for the optional typesystem\n",
        "my_number: int = 3\n",
        "my_string: str = 'hello'\n",
        "my_list: list[float] = [1.3, 2.4]\n",
        "\n",
        "def say_hello(name: str) -> str:\n",
        "    return 'hello ' + name\n",
        "\n",
        "def print_hello() -> None:\n",
        "    print('hello')"
      ]
    },
    {
      "cell_type": "markdown",
      "metadata": {
        "id": "jcBpbrXZi5HG"
      },
      "source": [
        "### Exercises for optional typesystem\n",
        "You can start playing around with it. E.g. pick an exercise from the function and methods section and implement the code using the optional typesystem."
      ]
    },
    {
      "cell_type": "code",
      "execution_count": 166,
      "metadata": {
        "colab": {
          "base_uri": "https://localhost:8080/"
        },
        "id": "L5tQXZkXi5HG",
        "outputId": "838a5b91-de20-4389-eb76-44882af6d2f3"
      },
      "outputs": [
        {
          "output_type": "execute_result",
          "data": {
            "text/plain": [
              "15.0"
            ]
          },
          "metadata": {},
          "execution_count": 166
        }
      ],
      "source": [
        "# Your code goes here\n",
        "\n",
        "def calculate_triangle_area(base: int, height: int):\n",
        "    return 0.5 * base * height\n",
        "\n",
        "base: int = 5\n",
        "height: int = 6\n",
        "\n",
        "calculate_triangle_area(base, height)"
      ]
    },
    {
      "cell_type": "markdown",
      "metadata": {
        "id": "cg_iaWCvi5HG"
      },
      "source": [
        "## [Optional] Classes\n",
        "Python classes are available for bundling data and functionality. \"Creating a new class creates a new type of object, allowing new instances of that type to be made. Each class instance can have attributes attached to it for maintaining its state.\". Read [more about classes](https://docs.python.org/3.11/tutorial/classes.html?highlight=object%20oriented%20programming) (e.g. inheritance...)."
      ]
    },
    {
      "cell_type": "code",
      "execution_count": 167,
      "metadata": {
        "id": "yZ4smEo3i5HG"
      },
      "outputs": [],
      "source": [
        "# Create a class object with two attributes (data, method)\n",
        "class ExampleClass:\n",
        "    class_value = 0\n",
        "    def add_one(self):\n",
        "        self.class_value += 1"
      ]
    },
    {
      "cell_type": "code",
      "execution_count": 168,
      "metadata": {
        "colab": {
          "base_uri": "https://localhost:8080/"
        },
        "id": "sQBjul7Bi5HG",
        "outputId": "a4bbdfcd-4327-435e-e618-57018eba5896"
      },
      "outputs": [
        {
          "output_type": "stream",
          "name": "stdout",
          "text": [
            "0\n",
            "<function ExampleClass.add_one at 0x7ef309710040>\n"
          ]
        }
      ],
      "source": [
        "# Reference class attributes\n",
        "print(ExampleClass.class_value)\n",
        "print(ExampleClass.add_one)"
      ]
    },
    {
      "cell_type": "code",
      "execution_count": 169,
      "metadata": {
        "colab": {
          "base_uri": "https://localhost:8080/"
        },
        "id": "xnduBpYvi5HG",
        "outputId": "5b522288-f9b6-4563-c5bd-3257e81e0670"
      },
      "outputs": [
        {
          "output_type": "stream",
          "name": "stdout",
          "text": [
            "6\n"
          ]
        }
      ],
      "source": [
        "# Instantiate class\n",
        "exampleClass = ExampleClass()\n",
        "\n",
        "# Set class value\n",
        "exampleClass.class_value = 5\n",
        "exampleClass.add_one()\n",
        "\n",
        "print(exampleClass.class_value)"
      ]
    },
    {
      "cell_type": "code",
      "execution_count": 170,
      "metadata": {
        "colab": {
          "base_uri": "https://localhost:8080/"
        },
        "id": "5j_8rKmHi5HG",
        "outputId": "306b1e1e-ae78-4dd3-8ac5-fe972939d2ba"
      },
      "outputs": [
        {
          "output_type": "stream",
          "name": "stdout",
          "text": [
            "True\n",
            "False\n"
          ]
        }
      ],
      "source": [
        "# class_value is a class variable shared by all instances\n",
        "# Defining an init function for a class introduces variables that are unique to each instance\n",
        "class AnotherClass:\n",
        "    class_value = 0\n",
        "    def __init__(self, instance_value):\n",
        "        self.instance_value = instance_value\n",
        "\n",
        "# Instantiate classes with init function\n",
        "first_class = AnotherClass('instance value 1')\n",
        "second_class = AnotherClass('instance value 2')\n",
        "\n",
        "print(first_class.class_value == second_class.class_value) # shared class value\n",
        "print(first_class.instance_value == second_class.instance_value) # unique instance value"
      ]
    },
    {
      "cell_type": "markdown",
      "metadata": {
        "id": "55n5jyJOi5HG"
      },
      "source": [
        "## [Optional] Concurrent execution\n",
        "[Concurrent execution](https://docs.python.org/3/library/concurrency.html) handles multiple active processes at the same time.\n",
        "\n",
        "[Threading](https://docs.python.org/3/library/threading.html) enables concurrent execution by running multiple threads, switching between tasks, but not running in parallel.\n",
        "Initially there is no multi threading in the CPython implementation due to the [global interpreter lock](https://docs.python.org/3/glossary.html#term-global-interpreter-lock) and only one thread executes the code. Code runs on a default thread called the main thread. Threads run in a shared memory space and are a good option for CPU bound processing and I/O bound task execution.\n",
        "Short video introduction to [Python threading](https://www.youtube.com/watch?v=A_Z1lgZLSNc).\n",
        "\n",
        "[Multiprocessing](https://docs.python.org/3/library/multiprocessing.html) enables better use of computational resources of multicore machines and overcomes the global interpreter lock. Multiprocessing enables true parallelism. Processes have separate memory space and are a good option for I/O bound applications."
      ]
    },
    {
      "cell_type": "markdown",
      "metadata": {
        "id": "eJMMNmOci5HG"
      },
      "source": [
        "## [Optional] Other useful modules and packages\n",
        "To find modules for Python browse at https://pypi.org\n",
        "\n",
        "Useful modules for Python in the data space include the following (good to have heard about them):\n",
        "  - [Regex](https://docs.python.org/3.11/library/re.html?highlight=rx) for regular expression matching operations.\n",
        "  - [Math](https://docs.python.org/3.11/library/math.html?highlight=math#module-math) for mathematical functions.\n",
        "  - [NumPy](https://numpy.org/devdocs/index.html) is a fundamental package for scientific computing. It provides multidimensional arrays and the capability to perform fast operations (mathematical, statistical, algebraic etc.) on them.\n",
        "  - [Pandas](https://pandas.pydata.org/) is used for data analysis and manipulation. Fast and easy to use. Exploratory analysis is a very good usecase.\n",
        "  - [Matplotlib](https://matplotlib.org/) and [Seaborn](https://seaborn.pydata.org/) are both excellent visualisation tools.\n",
        "  - [scikit-learn](https://scikit-learn.org/stable/) is a machine learning library providing implementations for common algorithms for predictive data analysis."
      ]
    }
  ],
  "metadata": {
    "kernelspec": {
      "display_name": "Python 3 (ipykernel)",
      "language": "python",
      "name": "python3"
    },
    "language_info": {
      "codemirror_mode": {
        "name": "ipython",
        "version": 3
      },
      "file_extension": ".py",
      "mimetype": "text/x-python",
      "name": "python",
      "nbconvert_exporter": "python",
      "pygments_lexer": "ipython3",
      "version": "3.11.3"
    },
    "colab": {
      "provenance": []
    }
  },
  "nbformat": 4,
  "nbformat_minor": 0
}